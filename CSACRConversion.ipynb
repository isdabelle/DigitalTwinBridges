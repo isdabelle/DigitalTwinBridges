{
 "cells": [
  {
   "cell_type": "markdown",
   "metadata": {},
   "source": [
    "# Circulation Data Conversion\n",
    "\n",
    "This document, similar to WIMConversion, is for converting the traffic circulation data into a useable pickled form"
   ]
  },
  {
   "cell_type": "code",
   "execution_count": 1,
   "metadata": {},
   "outputs": [],
   "source": [
    "import pandas as pd\n",
    "import numpy as np\n",
    "import h5py"
   ]
  },
  {
   "cell_type": "code",
   "execution_count": 138,
   "metadata": {},
   "outputs": [],
   "source": [
    "def load_table_from_struct_circ(station, year) -> pd.DataFrame():\n",
    "    \n",
    "    file =  h5py.File('{}/{}_{}_struct.mat'.format(station,station, year), 'r')\n",
    "    circ_struct = file['circ_struct']\n",
    "    \n",
    "    data = []\n",
    "    for ref in circ_struct['table']['data'][:]:\n",
    "        data.append(file[ref[0]].value)\n",
    "    \n",
    "    columns = []\n",
    "    for column in circ_struct['columns'][:]:\n",
    "        columns.append(file[column[0]].value.tobytes()[::2].decode())\n",
    "    \n",
    "    table_dict = {}\n",
    "    for colidx in range(len(columns)):\n",
    "        table_dict[columns[colidx]] = data[colidx][0]\n",
    "        \n",
    "    #For some reason there is this \"c\" column that is only of length 6, drop this\n",
    "    del table_dict['c']\n",
    "    return pd.DataFrame(table_dict)"
   ]
  },
  {
   "cell_type": "code",
   "execution_count": 137,
   "metadata": {},
   "outputs": [],
   "source": [
    "def circ_df_pickle(df):\n",
    "    #Less than 1% null, therefore remove the null values\n",
    "    is_null = df.d.isnull()\n",
    "    df = df[df.d != is_null]\n",
    "    df['d_str'] = df.d.astype(str)\n",
    "    df['len_d'] = df['d_str'].apply(lambda x: len(x))\n",
    "    #Eliminate any date that does not have the minimum length of 5\n",
    "    df = df[df.len_d.isin([5, 6])]\n",
    "    #Then to breakdown the datetime, some of the columns need to be converted to str\n",
    "    df['Date'] = df['d'].apply(lambda x: pd.to_datetime(x,errors='coerce', format='%m%d%y'))\n",
    "    df = df.drop(columns=['d'])\n",
    "    df['Date'] += pd.to_timedelta(df.h, unit='h')\n",
    "    df['Date'] += pd.to_timedelta(df.m, unit='m')\n",
    "    df['Date'] += pd.to_timedelta(df.s, unit='s')\n",
    "    df['Date'] += pd.to_timedelta(df.ms, unit='ms')\n",
    "    df = df.drop(columns=['h', 'm', 's', 'ms', 'd_str', 'len_d'])\n",
    "    \n",
    "    pd.to_pickle(df, '{}/{}_circ.pkl'.format(station, year))\n"
   ]
  },
  {
   "cell_type": "code",
   "execution_count": 111,
   "metadata": {
    "scrolled": true
   },
   "outputs": [],
   "source": [
    "station = '137'\n",
    "year = 2017\n",
    "df = load_table_from_struct_circ(station, year)\n",
    "circ_df_pickle()"
   ]
  }
 ],
 "metadata": {
  "kernelspec": {
   "display_name": "Python 3",
   "language": "python",
   "name": "python3"
  },
  "language_info": {
   "codemirror_mode": {
    "name": "ipython",
    "version": 3
   },
   "file_extension": ".py",
   "mimetype": "text/x-python",
   "name": "python",
   "nbconvert_exporter": "python",
   "pygments_lexer": "ipython3",
   "version": "3.7.3"
  }
 },
 "nbformat": 4,
 "nbformat_minor": 2
}
