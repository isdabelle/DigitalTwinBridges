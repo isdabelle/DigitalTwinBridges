{
 "cells": [
  {
   "cell_type": "markdown",
   "metadata": {},
   "source": [
    "# Platoon Finding\n",
    "\n",
    "This document aims to demonstrate the \"platoon\" phenomenon in a portion of the WIM data. Using years 2014-2016 in the Cereni, Denges and Gotthard stations. "
   ]
  },
  {
   "cell_type": "code",
   "execution_count": 1,
   "metadata": {},
   "outputs": [
    {
     "ename": "ModuleNotFoundError",
     "evalue": "No module named 'multiprocess'",
     "output_type": "error",
     "traceback": [
      "\u001b[0;31m---------------------------------------------------------------------------\u001b[0m",
      "\u001b[0;31mModuleNotFoundError\u001b[0m                       Traceback (most recent call last)",
      "\u001b[0;32m<ipython-input-1-ab6c372a613e>\u001b[0m in \u001b[0;36m<module>\u001b[0;34m\u001b[0m\n\u001b[1;32m      3\u001b[0m \u001b[0;32mimport\u001b[0m \u001b[0mseaborn\u001b[0m \u001b[0;32mas\u001b[0m \u001b[0msns\u001b[0m\u001b[0;34m\u001b[0m\u001b[0;34m\u001b[0m\u001b[0m\n\u001b[1;32m      4\u001b[0m \u001b[0;32mimport\u001b[0m \u001b[0mnumpy\u001b[0m \u001b[0;32mas\u001b[0m \u001b[0mnp\u001b[0m\u001b[0;34m\u001b[0m\u001b[0;34m\u001b[0m\u001b[0m\n\u001b[0;32m----> 5\u001b[0;31m \u001b[0;32mimport\u001b[0m \u001b[0mmultiprocess\u001b[0m \u001b[0;32mas\u001b[0m \u001b[0mmp\u001b[0m\u001b[0;34m\u001b[0m\u001b[0;34m\u001b[0m\u001b[0m\n\u001b[0m\u001b[1;32m      6\u001b[0m \u001b[0;34m\u001b[0m\u001b[0m\n\u001b[1;32m      7\u001b[0m \u001b[0msns\u001b[0m\u001b[0;34m.\u001b[0m\u001b[0mset_style\u001b[0m\u001b[0;34m(\u001b[0m\u001b[0;34m'darkgrid'\u001b[0m\u001b[0;34m)\u001b[0m\u001b[0;34m\u001b[0m\u001b[0;34m\u001b[0m\u001b[0m\n",
      "\u001b[0;31mModuleNotFoundError\u001b[0m: No module named 'multiprocess'"
     ]
    }
   ],
   "source": [
    "import pandas as pd\n",
    "import matplotlib.pyplot as plt\n",
    "import seaborn as sns\n",
    "import numpy as np\n",
    "import multiprocess as mp\n",
    "\n",
    "sns.set_style('darkgrid')\n",
    "plt.rc('figure',figsize=(12,8))\n",
    "plt.rc('font',size=13)\n",
    "sns.set(rc={'figure.figsize':(11.7,8.27)})"
   ]
  },
  {
   "cell_type": "markdown",
   "metadata": {},
   "source": [
    "The function below takes an input of station name and lanes and finds the single lane platoons by comparing the timestamps of the two trucks and categorizing any trucks with timestamps of less than 3 seconds appart as in a platoon. Platoons of two or more were then combined if the headway between the last of the group is within 3 seconds. The composition of the truck types are kept and aggregated into a list. The top 5 occuring lists are then displayed for platoons of lengths 2, 3 and 4."
   ]
  },
  {
   "cell_type": "code",
   "execution_count": null,
   "metadata": {},
   "outputs": [],
   "source": [
    "#Takes in the station and the number of the inner lanes in both directions for the period of 2014-2016\n",
    "def one_lane_platoon(Station, start_y, end_y, mode, headway_seconds):\n",
    "    df = pd.read_pickle('{}Data/{}_{}_datetime.pkl'.format(Station, start_y, end_y))    \n",
    "    \n",
    "    lanes = df.FS.unique()\n",
    "    \n",
    "    #For each lane in lanes, find the individual platoon histogram and most common platoon combinations\n",
    "    df_platoon = []\n",
    "    for lane in lanes:\n",
    "        df_lane = df.loc[df['FS'] == lane]\n",
    "\n",
    "        df_lane = df_lane.set_index('Date')\n",
    "        df_lane = df_lane.sort_index()\n",
    "        df_lane['HEAD_T'] =(df_lane.index.to_series().shift(-1) - df_lane.index.to_series()).dt.total_seconds() #Truck headway\n",
    "\n",
    "        threshold_selector = df_lane.HEAD_T > headway_seconds #defines a headway of three seconds as the threshold\n",
    "        groups = threshold_selector.cumsum()\n",
    "        df_lane['Start']  = df_lane.index.to_series()\n",
    "        df_lane['End'] = df_lane.index.to_series()\n",
    "        df_lane_platoon = df_lane.groupby(groups).agg({'Start':min, 'End':max, 'CLASS': lambda x: x.tolist(), 'GW_TOT': lambda x: x.tolist(), 'LENTH': lambda x: x.tolist(), })\n",
    "        df_lane_platoon['Platoon'] = (df_lane_platoon.CLASS.str.len() > 1)\n",
    "        df_lane_platoon['Length'] = df_lane_platoon.CLASS.str.len()\n",
    "        df_plot = df_lane_platoon[df_lane_platoon.Length > 1]\n",
    "        ax = df_plot['Length'].plot.hist(bins=10, title= \"{} Lane {} Platoon Frequencies Greater than 1 {}-{}\".format(Station, lane, start_y, end_y)) \n",
    "        ax.set_xlabel('Number of Vehicles in Platoon')\n",
    "        plt.show()\n",
    "        if mode:\n",
    "            #Display the combinations of platoons that are the most common for 2, 3 and 4 length\n",
    "            print(df_lane_platoon[df_lane_platoon.Length == 2].CLASS.apply(tuple).value_counts().head().to_string())\n",
    "            print(df_lane_platoon[df_lane_platoon.Length == 3].CLASS.apply(tuple).value_counts().head().to_string())\n",
    "            print(df_lane_platoon[df_lane_platoon.Length == 4].CLASS.apply(tuple).value_counts().head().to_string())\n",
    "        df_lane_platoon['Lane'] = int(lane)\n",
    "        df_platoon.append(df_lane_platoon)\n",
    "        \n",
    "    df_platoon = pd.concat(df_platoon,ignore_index=True)\n",
    "    df_platoon.to_pickle('{}Data/{}_{}_platoon_h{}.pkl'.format(Station, start_year, end_year, headway_seconds))"
   ]
  },
  {
   "cell_type": "code",
   "execution_count": null,
   "metadata": {},
   "outputs": [],
   "source": [
    "def truck_type_filter(df):\n",
    "    \n",
    "    overweight = list(map(str, range(41, 47)))    #List of overwieght truck classes that can be replaced to single overweight class\n",
    "    medium = ['1128', '1127']\n",
    "    long = ['11117', '11127', '12117']\n",
    "    \n",
    "    df_class = df[['Length', 'CLASS']].explode('CLASS')\n",
    "    df_class['CLASS'] = df_class.CLASS.astype(str)\n",
    "    df_class['CLASS'] = df_class.CLASS.replace(overweight, '41 - 46')\n",
    "    df_class['CLASS'] = df_class.CLASS.replace(medium, '112r/112a')\n",
    "    df_class['CLASS'] = df_class.CLASS.replace(long, '1111r/1112r/1211r')\n",
    "    df_class['Length'] = df_class['Length'].apply(lambda x: str(x) if x <= 4 else '5 +')\n",
    "    df_class_grouped = df_class.groupby(['Length', 'CLASS']).CLASS.count()\n",
    "    df_class_grouped = df_class_grouped.unstack(-1)\n",
    "    df_class_grouped = df_class_grouped.fillna(0)\n",
    "    df_class_grouped = df_class_grouped.append(df_class_grouped.sum().rename('Total'))\n",
    "    df_class_grouped = df_class_grouped.div(df_class_grouped.sum(1), axis=0)\n",
    "    return df_class_grouped\n",
    "\n",
    "\n",
    "def truck_type_graph(station, start_year, end_year, lane):\n",
    "    df = pd.read_pickle('{}Data/{}_{}_platoon.pkl'.format(station, start_year, end_year))\n",
    "    #First plot the entire breakdown of the classes\n",
    "    if lane:\n",
    "        lanes = df.Lane.unique()\n",
    "        for single in lanes:\n",
    "            df_lane = df.loc[df['Lane'] == single]\n",
    "            df_lane = truck_type_filter(df_lane)\n",
    "            f = plt.figure()\n",
    "            df_lane.plot(kind='bar', stacked=True,title='{} Lane {} class breakdown depending on platoon length'.format(station, single),\n",
    "                                 colormap='Set3').legend(loc='center left',bbox_to_anchor=(1.0, 0.5))\n",
    "            plt.show()\n",
    "            \n",
    "    df_total = truck_type_filter(df)\n",
    "\n",
    "    f = plt.figure()\n",
    "    ax = df_total.plot(kind='bar', stacked=True,title='{} total class breakdown depending on platoon length'.format(station),\n",
    "                         colormap='Set3').legend(loc='center left',bbox_to_anchor=(1.0, 0.5))\n",
    "    plt.show()"
   ]
  },
  {
   "cell_type": "markdown",
   "metadata": {},
   "source": [
    "![](StationLanes/Denges.PNG=100x20)"
   ]
  },
  {
   "cell_type": "markdown",
   "metadata": {},
   "source": [
    "Below is the Denges WIM station representation.\n",
    "<img src=\"StationLanes/Denges.PNG\" width=\"300\">"
   ]
  },
  {
   "cell_type": "code",
   "execution_count": null,
   "metadata": {},
   "outputs": [],
   "source": [
    "station = 'Denges'\n",
    "df_station = one_lane_platoon(station, 2011, 2019, [1, 2], False)\n",
    "df_station = pd.concat(df_station,ignore_index=True)\n",
    "df_station.to_csv('{}Data/2011_2019_platoon.csv'.format(station))"
   ]
  },
  {
   "cell_type": "code",
   "execution_count": null,
   "metadata": {},
   "outputs": [],
   "source": [
    "station = \"Denges\"\n",
    "df_station.to_pickle('{}Data/2011_2019_platoon.pkl'.format(station))"
   ]
  },
  {
   "cell_type": "code",
   "execution_count": null,
   "metadata": {},
   "outputs": [],
   "source": [
    "station = \"Denges\"\n",
    "df_denges = pd.read_pickle('{}Data/2011_2019_platoon.pkl'.format(station), index_col=0, parse_dates=['Start', 'End'])\n",
    "df_denges.head()"
   ]
  },
  {
   "cell_type": "code",
   "execution_count": null,
   "metadata": {},
   "outputs": [],
   "source": [
    "truck_type_graph(df_denges, True, station)"
   ]
  },
  {
   "cell_type": "markdown",
   "metadata": {},
   "source": [
    "Below is the Ceneri WIM station representation.\n",
    "<img src=\"StationLanes/Ceneri.PNG\" width=\"300\">"
   ]
  },
  {
   "cell_type": "code",
   "execution_count": null,
   "metadata": {},
   "outputs": [],
   "source": [
    "df_ceneri = one_lane_platoon(\"Ceneri\", 2011, 2019, [1, 2, 3, 4], False)"
   ]
  },
  {
   "cell_type": "code",
   "execution_count": null,
   "metadata": {},
   "outputs": [],
   "source": [
    "def platoon_log_hist(station, start_year, end_year, headway_seconds):\n",
    "    df = pd.read_pickle('{}Data/{}_{}_platoon_h{}.pkl'.format(station, start_year, end_year, headway_seconds))\n",
    "    fig, ax = plt.subplots()\n",
    "    df['Length'].plot.hist(bins =12, title= \"{} Log of Natural Platoon Frequencies, {}-{}\".format('Ceneri', 2011, 2019), ax=ax) \n",
    "    ax.set_xlabel('Number of vehicles in platoon')\n",
    "    ax.set_yscale('log')\n",
    "    plt.show()\n",
    "    ax.get_figure().savefig('Figures/{}/TotalPlatoons_{}_{}.png'.format(station, start_year, end_year), bbox_inches='tight')\n"
   ]
  },
  {
   "cell_type": "code",
   "execution_count": null,
   "metadata": {},
   "outputs": [],
   "source": [
    "df_ceneri[df_ceneri.Length == 1].count()"
   ]
  },
  {
   "cell_type": "code",
   "execution_count": null,
   "metadata": {
    "scrolled": true
   },
   "outputs": [],
   "source": [
    "truck_type_graph(df_ceneri, True, station)"
   ]
  },
  {
   "cell_type": "markdown",
   "metadata": {},
   "source": [
    "Below is the Gotthard WIM station representation.\n",
    "<img src=\"StationLanes/Gotthard.PNG\" width=\"300\">"
   ]
  },
  {
   "cell_type": "code",
   "execution_count": null,
   "metadata": {},
   "outputs": [],
   "source": [
    "station = 'Gotthard'\n",
    "df_station = one_lane_platoon(station, 2011, 2019, [1, 2], False)"
   ]
  },
  {
   "cell_type": "code",
   "execution_count": null,
   "metadata": {},
   "outputs": [],
   "source": [
    "df_station = pd.concat(df_station, ignore_index=True)\n",
    "df_station.to_pickle('{}Data/2011_2019_platoon.pkl'.format(station))"
   ]
  },
  {
   "cell_type": "code",
   "execution_count": null,
   "metadata": {},
   "outputs": [],
   "source": [
    "truck_type_graph(df_station, True, station)"
   ]
  },
  {
   "cell_type": "markdown",
   "metadata": {},
   "source": [
    "## Truck natural platoon weight \n",
    "\n",
    "This section will show the distribution of the weight/length of each platoon using violin plots"
   ]
  },
  {
   "cell_type": "code",
   "execution_count": null,
   "metadata": {},
   "outputs": [],
   "source": [
    "def violin_weight_length(station, start_year, end_year):\n",
    "    \n",
    "    df_station = pd.read_pickle('{}Data/{}_{}_platoon.pkl'.format(station, start_year, end_year))\n",
    "    \n",
    "    df_platoon_weight = df_station[['GW_TOT', 'LENTH', 'Length', 'Lane']].explode('GW_TOT')\n",
    "    df_platoon_weight = df_platoon_weight.explode('LENTH').rename(columns={'LENTH' : 'Truck Length', 'GW_TOT' : 'Total Weight'})\n",
    "    df_platoon_weight['Total Weight'] = df_platoon_weight['Total Weight']/1000\n",
    "    df_platoon_weight['Truck Length'] = df_platoon_weight['Truck Length']/100\n",
    "    df_platoon_weight['Length'] = df_platoon_weight['Length'].apply(lambda x: str(x) if x <= 4 else '5 +')\n",
    "    df_platoon_weight['Total Weight'] = pd.to_numeric(df_platoon_weight['Total Weight'], errors='coerce')\n",
    "    df_platoon_weight['Truck Length'] = pd.to_numeric(df_platoon_weight['Truck Length'], errors='coerce')\n",
    "    \n",
    "    fig, axes = plt.subplots()\n",
    "    sns.violinplot('Length', 'Total Weight', data=df_platoon_weight, ax=axes)\n",
    "    axes.set_title('{} Weight Distribution by Number of Vehicles in Platoon'.format(station, start_year, end_year))\n",
    "\n",
    "    axes.yaxis.grid(True)\n",
    "    axes.set_xlabel('Number of vehicles per platoon')\n",
    "    axes.set_ylabel('Vehicle weight (tons)')\n",
    "\n",
    "    axes.get_figure().savefig('Figures/{}/{}_{}_weight_platoon.png'.format(station), bbox_inches='tight')\n",
    "    \n",
    "    plt.show()\n",
    "    \n",
    "    fig, axes = plt.subplots()\n",
    "    sns.violinplot('Length', 'Truck Length', data=df_platoon_weight, ax=axes)\n",
    "    axes.set_title('{} Truck Length Distribution by Number of Vehicles in Platoon'.format(station))\n",
    "\n",
    "    axes.yaxis.grid(True)\n",
    "    axes.set_xlabel('Number of vehicles per platoon')\n",
    "    axes.set_ylabel('Vehicle length (meters)')\n",
    "    \n",
    "    axes.get_figure().savefig('Figures/{}/{}_{}_length_platoon.png'.format(station, start_year, end_year), bbox_inches='tight')\n",
    "\n",
    "    plt.show()"
   ]
  },
  {
   "cell_type": "code",
   "execution_count": null,
   "metadata": {},
   "outputs": [],
   "source": [
    "stations = ['Ceneri', 'Denges', 'Gotthard']"
   ]
  },
  {
   "cell_type": "code",
   "execution_count": null,
   "metadata": {},
   "outputs": [],
   "source": [
    "for station in stations:\n",
    "    violin_weight_length(station)"
   ]
  },
  {
   "cell_type": "markdown",
   "metadata": {},
   "source": [
    "## Platoon Finding in Circulation data\n",
    "\n",
    "The purpose of this section is to investigate the typical headway distances using the 2017 circulation data from the 137 station, near the Ceneri WIM station. The classification of the circulation data is limited to the SWISS10 classification. In this classification there are only 6 different classifications 3 for light vehicles (< 3.5 tons) (2, 3, 4) and 3 for heavy vechicles (> 3.5 tons) (1, 5, 6)."
   ]
  },
  {
   "cell_type": "markdown",
   "metadata": {},
   "source": [
    "To do this, the time difference between the heavy vehicles will be noted, with no intermediate smaller vehicles"
   ]
  },
  {
   "cell_type": "code",
   "execution_count": null,
   "metadata": {},
   "outputs": [],
   "source": [
    "station = 137\n",
    "year = 2017"
   ]
  },
  {
   "cell_type": "code",
   "execution_count": null,
   "metadata": {},
   "outputs": [],
   "source": [
    "heavy = [1, 8, 9, 10]\n",
    "light = range(2, 8)"
   ]
  },
  {
   "cell_type": "code",
   "execution_count": null,
   "metadata": {},
   "outputs": [],
   "source": [
    "df = pd.read_pickle('{}/{}_circ.pkl'.format(station, year))"
   ]
  },
  {
   "cell_type": "code",
   "execution_count": null,
   "metadata": {},
   "outputs": [],
   "source": [
    "df.head(10)"
   ]
  },
  {
   "cell_type": "code",
   "execution_count": null,
   "metadata": {},
   "outputs": [],
   "source": [
    "df.SwissT.unique()"
   ]
  },
  {
   "cell_type": "code",
   "execution_count": null,
   "metadata": {},
   "outputs": [],
   "source": [
    "df.groupby('SwissT').agg({'Date': 'count'})"
   ]
  },
  {
   "cell_type": "code",
   "execution_count": null,
   "metadata": {},
   "outputs": [],
   "source": [
    "#Only having the vehicles categorized in the SWISS10 will be allowed\n",
    "all_vehicles = np.concatenate((heavy, light))\n",
    "df = df[df.SwissT.isin(all_vehicles)]"
   ]
  },
  {
   "cell_type": "code",
   "execution_count": null,
   "metadata": {},
   "outputs": [],
   "source": [
    "df.groupby('SwissT').agg({'Date': 'count'})"
   ]
  },
  {
   "cell_type": "code",
   "execution_count": null,
   "metadata": {},
   "outputs": [],
   "source": [
    "df['Heavy_veh'] = df.SwissT.isin(heavy)"
   ]
  },
  {
   "cell_type": "code",
   "execution_count": null,
   "metadata": {},
   "outputs": [],
   "source": [
    "df.groupby('Heavy_veh').agg({'Date': 'count'})"
   ]
  },
  {
   "cell_type": "code",
   "execution_count": null,
   "metadata": {},
   "outputs": [],
   "source": [
    "df = df[df.Lane.isin([1, 5])]"
   ]
  },
  {
   "cell_type": "code",
   "execution_count": null,
   "metadata": {},
   "outputs": [],
   "source": [
    "df['Adjusted_Headway'] = df['Headway'] - ((df['Length']*36)/(df['Speed']*1000))"
   ]
  },
  {
   "cell_type": "code",
   "execution_count": null,
   "metadata": {},
   "outputs": [],
   "source": [
    "df[df['IVT'] < 1].IVT.value_counts()"
   ]
  },
  {
   "cell_type": "code",
   "execution_count": null,
   "metadata": {},
   "outputs": [],
   "source": [
    "df['Prev_Headway'] = df['IVT'] + df['Headway'].shift(-1)"
   ]
  },
  {
   "cell_type": "code",
   "execution_count": null,
   "metadata": {
    "scrolled": true
   },
   "outputs": [],
   "source": [
    "fig, ax = plt.subplots()\n",
    "\n",
    "h1 = df[(df['IVT'] < 15) & df['Heavy_veh'].shift(-1) & df['Heavy_veh']].IVT.plot.hist(bins=150,title= \"{} Natural Truck-Truck Headways, {}\".format('137', 2017), ax=ax, label='Truck-Truck')\n",
    "h2 = df[(df['Prev_Headway'] < 15) & (~df['Heavy_veh'].shift(-1).fillna(99)) & df['Heavy_veh'] & df['Heavy_veh'].shift(-2)].Prev_Headway.plot.hist(bins=150,title= \"{} Natural Truck-Truck Inter-Vehicle time with and without Cars, {}\".format('137', 2017), ax=ax, label='Truck-Car-Truck')\n",
    "#ax.legend((h1, h2), ('Truck-Truck', 'Truck-Car-Truck'), loc='upper right', shadow=True)\n",
    "ax.legend()\n",
    "ax.set_xlabel('Seconds between Trucks')\n",
    "ax.set_ylabel('frequency')\n",
    "plt.show()"
   ]
  },
  {
   "cell_type": "code",
   "execution_count": null,
   "metadata": {},
   "outputs": [],
   "source": [
    "df[(df['Prev_Headway'] < 15) & (~df['Heavy_veh'].shift(-1).fillna(99)) & df['Heavy_veh'] & df['Heavy_veh'].shift(-2)].Prev_Headway.quantile(0.025)"
   ]
  },
  {
   "cell_type": "markdown",
   "metadata": {},
   "source": [
    "The above is the IVT time between trucks that captures Truck-Truck events with only an incidence of capturing 2.5% of the Truck-Car-Truck events"
   ]
  },
  {
   "cell_type": "markdown",
   "metadata": {},
   "source": [
    "## Making Platoons with all data\n",
    "\n",
    "Initially upon the platoon creation there was the total weight, classes and length of the vehicles in each platoon but lacked the axle weights, axle distances and headways between each vehicle."
   ]
  },
  {
   "cell_type": "code",
   "execution_count": null,
   "metadata": {},
   "outputs": [],
   "source": [
    "#First read in all historic WIM data\n",
    "station = 'Ceneri'\n",
    "df = pd.read_pickle('{}Data/{}_{}_datetime_all.pkl'.format(station, 2003, 2019))"
   ]
  },
  {
   "cell_type": "code",
   "execution_count": null,
   "metadata": {},
   "outputs": [],
   "source": [
    "df = df.set_index('Date')\n",
    "df = df.sort_index()"
   ]
  },
  {
   "cell_type": "code",
   "execution_count": null,
   "metadata": {},
   "outputs": [],
   "source": [
    "#First, look at constructing IVT (Inter-vehicle time)\n",
    "df['HEAD_T'] = (df.index.to_series().shift(-1) - df.index.to_series()).dt.total_seconds() #Truck headway"
   ]
  },
  {
   "cell_type": "code",
   "execution_count": null,
   "metadata": {},
   "outputs": [],
   "source": [
    "df.columns"
   ]
  },
  {
   "cell_type": "code",
   "execution_count": null,
   "metadata": {},
   "outputs": [],
   "source": [
    "df['IVT'] = df['HEAD_T'] - (df['LENTH']*3.6)/df['SPEED']"
   ]
  },
  {
   "cell_type": "code",
   "execution_count": null,
   "metadata": {},
   "outputs": [],
   "source": [
    "df['IVT'] = df.IVT.fillna(99) "
   ]
  },
  {
   "cell_type": "code",
   "execution_count": null,
   "metadata": {},
   "outputs": [],
   "source": [
    "df.IVT.isna().sum()"
   ]
  },
  {
   "cell_type": "code",
   "execution_count": null,
   "metadata": {},
   "outputs": [],
   "source": [
    "df = df[df.SPEED != 0]"
   ]
  },
  {
   "cell_type": "code",
   "execution_count": null,
   "metadata": {},
   "outputs": [],
   "source": [
    "df = df[df.IVT > 0] # Remove any IVT calculated to be less than 0"
   ]
  },
  {
   "cell_type": "code",
   "execution_count": null,
   "metadata": {},
   "outputs": [],
   "source": [
    "df.shape"
   ]
  },
  {
   "cell_type": "code",
   "execution_count": null,
   "metadata": {
    "scrolled": true
   },
   "outputs": [],
   "source": [
    "df"
   ]
  },
  {
   "cell_type": "code",
   "execution_count": null,
   "metadata": {
    "scrolled": true
   },
   "outputs": [],
   "source": [
    "df[df.IVT < 10].IVT.hist(bins=100)"
   ]
  },
  {
   "cell_type": "code",
   "execution_count": null,
   "metadata": {},
   "outputs": [],
   "source": [
    "#Takes in the station and the number of the inner lanes in both directions for the period of 2014-2016\n",
    "def one_lane_platoon_all(df):    \n",
    "    \n",
    "    mode = False \n",
    "    ivt_seconds = 2.6\n",
    "    lane = 4 \n",
    "    \n",
    "    df_lane = df.loc[df['FS'] == lane]\n",
    "\n",
    "    df_lane = df_lane.set_index('Date')\n",
    "    df_lane = df_lane.sort_index()\n",
    "    df_lane['HEAD_T'] =(df_lane.index.to_series().shift(-1) - df_lane.index.to_series()).dt.total_seconds() #Truck headway\n",
    "\n",
    "    df_lane['IVT'] = df_lane['HEAD_T'] - (df_lane['LENTH']*3.6)/df_lane['SPEED']\n",
    "    df_lane['IVT'] = df_lane.IVT.fillna(99) \n",
    "    df_lane = df_lane[df_lane.IVT > 0] # Remove any IVT calculated to be less than 0 (around 3%)\n",
    "    \n",
    "    threshold_selector = df_lane.IVT > ivt_seconds #defines a IVT of threshold\n",
    "    groups = threshold_selector.cumsum()\n",
    "    df_lane['Start']  = df_lane.index.to_series()\n",
    "    df_lane['End'] = df_lane.index.to_series()\n",
    "    df_lane_platoon = df_lane.groupby(groups).agg({'Start':min, 'End':max, 'CLASS': lambda x: x.tolist(), 'GW_TOT': lambda x: x.tolist(), 'LENTH': lambda x: x.tolist(),\n",
    "                                                  'AX': lambda x: x.tolist(), 'AX_W': lambda x: x.tolist(), 'AX_DIST': lambda x: x.tolist(), 'IVT': lambda x: x.tolist(), \n",
    "                                                  'SPEED': lambda x: x.tolist()})\n",
    "    df_lane_platoon['Platoon'] = (df_lane_platoon.CLASS.str.len() > 1)\n",
    "    df_lane_platoon['Length'] = df_lane_platoon.CLASS.str.len()\n",
    "    #df_plot = df_lane_platoon[df_lane_platoon.Length > 1]\n",
    "    #ax = df_plot['Length'].plot.hist(bins=10, title= \"{} Lane Platoon Frequencies Greater than 1\".format(lane)) \n",
    "    #ax.set_xlabel('Number of Vehicles in Platoon')\n",
    "    #plt.show()\n",
    "    if mode:\n",
    "        #Display the combinations of platoons that are the most common for 2, 3 and 4 length\n",
    "        print(df_lane_platoon[df_lane_platoon.Length == 2].CLASS.apply(tuple).value_counts().head().to_string())\n",
    "        print(df_lane_platoon[df_lane_platoon.Length == 3].CLASS.apply(tuple).value_counts().head().to_string())\n",
    "        print(df_lane_platoon[df_lane_platoon.Length == 4].CLASS.apply(tuple).value_counts().head().to_string())\n",
    "    df_lane_platoon['Lane'] = int(lane)\n",
    "    \n",
    "    return df_lane_platoon"
   ]
  },
  {
   "cell_type": "code",
   "execution_count": null,
   "metadata": {},
   "outputs": [],
   "source": [
    "station = 'Ceneri'\n",
    "df = pd.read_pickle('{}Data/{}_{}_datetime_all.pkl'.format(station, 2003, 2019))\n"
   ]
  },
  {
   "cell_type": "code",
   "execution_count": null,
   "metadata": {},
   "outputs": [],
   "source": [
    "def parallelize_dataframe(df, func, n_cores=10):\n",
    "    df_split = np.array_split(df, n_cores)\n",
    "    ctx = mp.get_context('spawn')\n",
    "    pool = ctx.Pool(n_cores)\n",
    "    df = pd.concat(pool.map(func, df_split))\n",
    "    pool.close()\n",
    "    pool.join()\n",
    "    return df"
   ]
  },
  {
   "cell_type": "code",
   "execution_count": null,
   "metadata": {},
   "outputs": [],
   "source": [
    "platoon_df = parallelize_dataframe(df, one_lane_platoon_all, (mp.cpu_count() - 5))"
   ]
  },
  {
   "cell_type": "code",
   "execution_count": null,
   "metadata": {},
   "outputs": [],
   "source": [
    "platoon_df.to_pickle('{}Data/{}_{}_platoon_h{}_lane{}.pkl'.format(station, 2003, 2019,2.6, 4))"
   ]
  },
  {
   "cell_type": "code",
   "execution_count": null,
   "metadata": {},
   "outputs": [],
   "source": []
  }
 ],
 "metadata": {
  "kernelspec": {
   "display_name": "Python 3",
   "language": "python",
   "name": "python3"
  },
  "language_info": {
   "codemirror_mode": {
    "name": "ipython",
    "version": 3
   },
   "file_extension": ".py",
   "mimetype": "text/x-python",
   "name": "python",
   "nbconvert_exporter": "python",
   "pygments_lexer": "ipython3",
   "version": "3.8.5"
  }
 },
 "nbformat": 4,
 "nbformat_minor": 2
}
