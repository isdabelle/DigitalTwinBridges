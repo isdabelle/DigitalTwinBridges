{
 "cells": [
  {
   "cell_type": "markdown",
   "metadata": {},
   "source": [
    "# Platoon Finding\n",
    "\n",
    "This document aims to demonstrate the \"platoon\" phenomenon in a portion of the WIM data. Using years 2014-2016 in the Cereni, Denges and Gotthard stations. "
   ]
  },
  {
   "cell_type": "code",
   "execution_count": 1,
   "metadata": {},
   "outputs": [
    {
     "name": "stderr",
     "output_type": "stream",
     "text": [
      "\n",
      "Bad key \"text.kerning_factor\" on line 4 in\n",
      "/home/pumford/.conda/envs/bridge/lib/python3.7/site-packages/matplotlib/mpl-data/stylelib/_classic_test_patch.mplstyle.\n",
      "You probably need to get an updated matplotlibrc file from\n",
      "https://github.com/matplotlib/matplotlib/blob/v3.1.2/matplotlibrc.template\n",
      "or from the matplotlib source distribution\n"
     ]
    }
   ],
   "source": [
    "import pandas as pd\n",
    "import matplotlib.pyplot as plt\n",
    "import seaborn as sns\n",
    "import numpy as np\n",
    "import multiprocess as mp\n",
    "\n",
    "sns.set_style('darkgrid')\n",
    "plt.rc('figure',figsize=(12,8))\n",
    "plt.rc('font',size=13)\n",
    "sns.set(rc={'figure.figsize':(11.7,8.27)})"
   ]
  },
  {
   "cell_type": "markdown",
   "metadata": {},
   "source": [
    "The function below takes an input of station name and lanes and finds the single lane platoons by comparing the timestamps of the two trucks and categorizing any trucks with timestamps of less than 3 seconds appart as in a platoon. Platoons of two or more were then combined if the headway between the last of the group is within 3 seconds. The composition of the truck types are kept and aggregated into a list. The top 5 occuring lists are then displayed for platoons of lengths 2, 3 and 4."
   ]
  },
  {
   "cell_type": "code",
   "execution_count": null,
   "metadata": {},
   "outputs": [],
   "source": [
    "#Takes in the station and the number of the inner lanes in both directions for the period of 2014-2016\n",
    "def one_lane_platoon(Station, start_y, end_y, mode, headway_seconds):\n",
    "    df = pd.read_pickle('{}Data/{}_{}_datetime.pkl'.format(Station, start_y, end_y))    \n",
    "    \n",
    "    lanes = df.FS.unique()\n",
    "    \n",
    "    #For each lane in lanes, find the individual platoon histogram and most common platoon combinations\n",
    "    df_platoon = []\n",
    "    for lane in lanes:\n",
    "        df_lane = df.loc[df['FS'] == lane]\n",
    "\n",
    "        df_lane = df_lane.set_index('Date')\n",
    "        df_lane = df_lane.sort_index()\n",
    "        df_lane['HEAD_T'] =(df_lane.index.to_series().shift(-1) - df_lane.index.to_series()).dt.total_seconds() #Truck headway\n",
    "\n",
    "        threshold_selector = df_lane.HEAD_T > headway_seconds #defines a headway of three seconds as the threshold\n",
    "        groups = threshold_selector.cumsum()\n",
    "        df_lane['Start']  = df_lane.index.to_series()\n",
    "        df_lane['End'] = df_lane.index.to_series()\n",
    "        df_lane_platoon = df_lane.groupby(groups).agg({'Start':min, 'End':max, 'CLASS': lambda x: x.tolist(), 'GW_TOT': lambda x: x.tolist(), 'LENTH': lambda x: x.tolist(), })\n",
    "        df_lane_platoon['Platoon'] = (df_lane_platoon.CLASS.str.len() > 1)\n",
    "        df_lane_platoon['Length'] = df_lane_platoon.CLASS.str.len()\n",
    "        df_plot = df_lane_platoon[df_lane_platoon.Length > 1]\n",
    "        ax = df_plot['Length'].plot.hist(bins=10, title= \"{} Lane {} Platoon Frequencies Greater than 1 {}-{}\".format(Station, lane, start_y, end_y)) \n",
    "        ax.set_xlabel('Number of Vehicles in Platoon')\n",
    "        plt.show()\n",
    "        if mode:\n",
    "            #Display the combinations of platoons that are the most common for 2, 3 and 4 length\n",
    "            print(df_lane_platoon[df_lane_platoon.Length == 2].CLASS.apply(tuple).value_counts().head().to_string())\n",
    "            print(df_lane_platoon[df_lane_platoon.Length == 3].CLASS.apply(tuple).value_counts().head().to_string())\n",
    "            print(df_lane_platoon[df_lane_platoon.Length == 4].CLASS.apply(tuple).value_counts().head().to_string())\n",
    "        df_lane_platoon['Lane'] = int(lane)\n",
    "        df_platoon.append(df_lane_platoon)\n",
    "        \n",
    "    df_platoon = pd.concat(df_platoon,ignore_index=True)\n",
    "    df_platoon.to_pickle('{}Data/{}_{}_platoon_h{}.pkl'.format(Station, start_year, end_year, headway_seconds))"
   ]
  },
  {
   "cell_type": "code",
   "execution_count": null,
   "metadata": {},
   "outputs": [],
   "source": [
    "def truck_type_filter(df):\n",
    "    \n",
    "    overweight = list(map(str, range(41, 47)))    #List of overwieght truck classes that can be replaced to single overweight class\n",
    "    medium = ['1128', '1127']\n",
    "    long = ['11117', '11127', '12117']\n",
    "    \n",
    "    df_class = df[['Length', 'CLASS']].explode('CLASS')\n",
    "    df_class['CLASS'] = df_class.CLASS.astype(str)\n",
    "    df_class['CLASS'] = df_class.CLASS.replace(overweight, '41 - 46')\n",
    "    df_class['CLASS'] = df_class.CLASS.replace(medium, '112r/112a')\n",
    "    df_class['CLASS'] = df_class.CLASS.replace(long, '1111r/1112r/1211r')\n",
    "    df_class['Length'] = df_class['Length'].apply(lambda x: str(x) if x <= 4 else '5 +')\n",
    "    df_class_grouped = df_class.groupby(['Length', 'CLASS']).CLASS.count()\n",
    "    df_class_grouped = df_class_grouped.unstack(-1)\n",
    "    df_class_grouped = df_class_grouped.fillna(0)\n",
    "    df_class_grouped = df_class_grouped.append(df_class_grouped.sum().rename('Total'))\n",
    "    df_class_grouped = df_class_grouped.div(df_class_grouped.sum(1), axis=0)\n",
    "    return df_class_grouped\n",
    "\n",
    "\n",
    "def truck_type_graph(station, start_year, end_year, lane):\n",
    "    df = pd.read_pickle('{}Data/{}_{}_platoon.pkl'.format(station, start_year, end_year))\n",
    "    #First plot the entire breakdown of the classes\n",
    "    if lane:\n",
    "        lanes = df.Lane.unique()\n",
    "        for single in lanes:\n",
    "            df_lane = df.loc[df['Lane'] == single]\n",
    "            df_lane = truck_type_filter(df_lane)\n",
    "            f = plt.figure()\n",
    "            df_lane.plot(kind='bar', stacked=True,title='{} Lane {} class breakdown depending on platoon length'.format(station, single),\n",
    "                                 colormap='Set3').legend(loc='center left',bbox_to_anchor=(1.0, 0.5))\n",
    "            plt.show()\n",
    "            \n",
    "    df_total = truck_type_filter(df)\n",
    "\n",
    "    f = plt.figure()\n",
    "    ax = df_total.plot(kind='bar', stacked=True,title='{} total class breakdown depending on platoon length'.format(station),\n",
    "                         colormap='Set3').legend(loc='center left',bbox_to_anchor=(1.0, 0.5))\n",
    "    plt.show()"
   ]
  },
  {
   "cell_type": "markdown",
   "metadata": {},
   "source": [
    "![](StationLanes/Denges.PNG=100x20)"
   ]
  },
  {
   "cell_type": "markdown",
   "metadata": {},
   "source": [
    "Below is the Denges WIM station representation.\n",
    "<img src=\"StationLanes/Denges.PNG\" width=\"300\">"
   ]
  },
  {
   "cell_type": "code",
   "execution_count": null,
   "metadata": {},
   "outputs": [],
   "source": [
    "station = 'Denges'\n",
    "df_station = one_lane_platoon(station, 2011, 2019, [1, 2], False)\n",
    "df_station = pd.concat(df_station,ignore_index=True)\n",
    "df_station.to_csv('{}Data/2011_2019_platoon.csv'.format(station))"
   ]
  },
  {
   "cell_type": "code",
   "execution_count": null,
   "metadata": {},
   "outputs": [],
   "source": [
    "station = \"Denges\"\n",
    "df_station.to_pickle('{}Data/2011_2019_platoon.pkl'.format(station))"
   ]
  },
  {
   "cell_type": "code",
   "execution_count": null,
   "metadata": {},
   "outputs": [],
   "source": [
    "station = \"Denges\"\n",
    "df_denges = pd.read_pickle('{}Data/2011_2019_platoon.pkl'.format(station), index_col=0, parse_dates=['Start', 'End'])\n",
    "df_denges.head()"
   ]
  },
  {
   "cell_type": "code",
   "execution_count": null,
   "metadata": {},
   "outputs": [],
   "source": [
    "truck_type_graph(df_denges, True, station)"
   ]
  },
  {
   "cell_type": "markdown",
   "metadata": {},
   "source": [
    "Below is the Ceneri WIM station representation.\n",
    "<img src=\"StationLanes/Ceneri.PNG\" width=\"300\">"
   ]
  },
  {
   "cell_type": "code",
   "execution_count": null,
   "metadata": {},
   "outputs": [],
   "source": [
    "df_ceneri = one_lane_platoon(\"Ceneri\", 2011, 2019, [1, 2, 3, 4], False)"
   ]
  },
  {
   "cell_type": "code",
   "execution_count": null,
   "metadata": {},
   "outputs": [],
   "source": [
    "def platoon_log_hist(station, start_year, end_year, headway_seconds):\n",
    "    df = pd.read_pickle('{}Data/{}_{}_platoon_h{}.pkl'.format(station, start_year, end_year, headway_seconds))\n",
    "    fig, ax = plt.subplots()\n",
    "    df['Length'].plot.hist(bins =12, title= \"{} Log of Natural Platoon Frequencies, {}-{}\".format('Ceneri', 2011, 2019), ax=ax) \n",
    "    ax.set_xlabel('Number of vehicles in platoon')\n",
    "    ax.set_yscale('log')\n",
    "    plt.show()\n",
    "    ax.get_figure().savefig('Figures/{}/TotalPlatoons_{}_{}.png'.format(station, start_year, end_year), bbox_inches='tight')\n"
   ]
  },
  {
   "cell_type": "code",
   "execution_count": null,
   "metadata": {},
   "outputs": [],
   "source": [
    "df_ceneri[df_ceneri.Length == 1].count()"
   ]
  },
  {
   "cell_type": "code",
   "execution_count": null,
   "metadata": {
    "scrolled": true
   },
   "outputs": [],
   "source": [
    "truck_type_graph(df_ceneri, True, station)"
   ]
  },
  {
   "cell_type": "markdown",
   "metadata": {},
   "source": [
    "Below is the Gotthard WIM station representation.\n",
    "<img src=\"StationLanes/Gotthard.PNG\" width=\"300\">"
   ]
  },
  {
   "cell_type": "code",
   "execution_count": null,
   "metadata": {},
   "outputs": [],
   "source": [
    "station = 'Gotthard'\n",
    "df_station = one_lane_platoon(station, 2011, 2019, [1, 2], False)"
   ]
  },
  {
   "cell_type": "code",
   "execution_count": null,
   "metadata": {},
   "outputs": [],
   "source": [
    "df_station = pd.concat(df_station, ignore_index=True)\n",
    "df_station.to_pickle('{}Data/2011_2019_platoon.pkl'.format(station))"
   ]
  },
  {
   "cell_type": "code",
   "execution_count": null,
   "metadata": {},
   "outputs": [],
   "source": [
    "truck_type_graph(df_station, True, station)"
   ]
  },
  {
   "cell_type": "markdown",
   "metadata": {},
   "source": [
    "## Truck natural platoon weight \n",
    "\n",
    "This section will show the distribution of the weight/length of each platoon using violin plots"
   ]
  },
  {
   "cell_type": "code",
   "execution_count": 27,
   "metadata": {},
   "outputs": [],
   "source": [
    "def violin_weight_length():\n",
    "    \n",
    "    #df_station = pd.read_pickle('{}Data/{}_{}_platoon.pkl'.format(station, start_year, end_year))\n",
    "    df_station =pd.read_pickle('CeneriData/2003_2019_platoon_h2.4_lane4.pkl')\n",
    "    \n",
    "    df_platoon_weight = df_station[['GW_TOT', 'LENTH', 'Length', 'Lane']].explode('GW_TOT')\n",
    "    df_platoon_weight = df_platoon_weight.explode('LENTH').rename(columns={'LENTH' : 'Truck Length', 'GW_TOT' : 'Total Weight'})\n",
    "    df_platoon_weight['Total Weight'] = df_platoon_weight['Total Weight']/1000\n",
    "    df_platoon_weight['Truck Length'] = df_platoon_weight['Truck Length']/100\n",
    "    df_platoon_weight['Length'] = df_platoon_weight['Length'].apply(lambda x: str(x) if x <= 4 else '5 +')\n",
    "    df_platoon_weight['Total Weight'] = pd.to_numeric(df_platoon_weight['Total Weight'], errors='coerce')\n",
    "    df_platoon_weight['Truck Length'] = pd.to_numeric(df_platoon_weight['Truck Length'], errors='coerce')\n",
    "    \n",
    "    fig, axes = plt.subplots()\n",
    "    sns.violinplot('Length', 'Total Weight', data=df_platoon_weight, ax=axes)\n",
    "    #axes.set_title('{} Weight Distribution by Number of Vehicles in Platoon'.format(station, start_year, end_year))\n",
    "    axes.set_title('Weight distribution by number of heavy vehicles in HVG')\n",
    "    \n",
    "    axes.yaxis.grid(True)\n",
    "    axes.set_xlabel('Number of vehicles per HVG')\n",
    "    axes.set_ylabel('Vehicle weight (tons)')\n",
    "\n",
    "    #axes.get_figure().savefig('Figures/{}/{}_{}_weight_platoon.png'.format(station), bbox_inches='tight')\n",
    "    \n",
    "    plt.show()\n",
    "    \n",
    "    fig, axes = plt.subplots()\n",
    "    sns.violinplot('Length', 'Truck Length', data=df_platoon_weight, ax=axes)\n",
    "    #axes.set_title('{} Truck Length Distribution by Number of Vehicles in Platoon'.format(station))\n",
    "    axes.set_title('Length distribution by number of heavy vehicles in HVG')\n",
    "    \n",
    "    axes.yaxis.grid(True)\n",
    "    axes.set_xlabel('Number of vehicles per HVG')\n",
    "    axes.set_ylabel('Vehicle length (meters)')\n",
    "    \n",
    "    #axes.get_figure().savefig('Figures/{}/{}_{}_length_platoon.png'.format(station, start_year, end_year), bbox_inches='tight')\n",
    "\n",
    "    plt.show()"
   ]
  },
  {
   "cell_type": "code",
   "execution_count": 28,
   "metadata": {
    "scrolled": true
   },
   "outputs": [
    {
     "name": "stderr",
     "output_type": "stream",
     "text": [
      "/home/pumford/.conda/envs/bridge/lib/python3.7/site-packages/seaborn/_decorators.py:43: FutureWarning: Pass the following variables as keyword args: x, y. From version 0.12, the only valid positional argument will be `data`, and passing other arguments without an explicit keyword will result in an error or misinterpretation.\n",
      "  FutureWarning\n"
     ]
    },
    {
     "data": {
      "image/png": "[encoded data removed]",
      "text/plain": [
       "<Figure size 842.4x595.44 with 1 Axes>"
      ]
     },
     "metadata": {},
     "output_type": "display_data"
    },
    {
     "name": "stderr",
     "output_type": "stream",
     "text": [
      "/home/pumford/.conda/envs/bridge/lib/python3.7/site-packages/seaborn/_decorators.py:43: FutureWarning: Pass the following variables as keyword args: x, y. From version 0.12, the only valid positional argument will be `data`, and passing other arguments without an explicit keyword will result in an error or misinterpretation.\n",
      "  FutureWarning\n"
     ]
    },
    {
     "data": {
      "image/png": "[encoded data removed]",
      "text/plain": [
       "<Figure size 842.4x595.44 with 1 Axes>"
      ]
     },
     "metadata": {},
     "output_type": "display_data"
    }
   ],
   "source": [
    "violin_weight_length()"
   ]
  },
  {
   "cell_type": "code",
   "execution_count": null,
   "metadata": {},
   "outputs": [],
   "source": [
    "stations = ['Ceneri', 'Denges', 'Gotthard']"
   ]
  },
  {
   "cell_type": "code",
   "execution_count": null,
   "metadata": {},
   "outputs": [],
   "source": [
    "for station in stations:\n",
    "    violin_weight_length(station)"
   ]
  },
  {
   "cell_type": "code",
   "execution_count": null,
   "metadata": {},
   "outputs": [],
   "source": []
  },
  {
   "cell_type": "markdown",
   "metadata": {},
   "source": [
    "## Platoon Finding in Circulation data\n",
    "\n",
    "The purpose of this section is to investigate the typical headway distances using the 2017 circulation data from the 137 station, near the Ceneri WIM station. The classification of the circulation data is limited to the SWISS10 classification. In this classification there are only 6 different classifications 3 for light vehicles (< 3.5 tons) (2, 3, 4) and 3 for heavy vechicles (> 3.5 tons) (1, 5, 6)."
   ]
  },
  {
   "cell_type": "markdown",
   "metadata": {},
   "source": [
    "To do this, the time difference between the heavy vehicles will be noted, with no intermediate smaller vehicles"
   ]
  },
  {
   "cell_type": "code",
   "execution_count": 2,
   "metadata": {},
   "outputs": [],
   "source": [
    "station = 137\n",
    "year = 2017"
   ]
  },
  {
   "cell_type": "code",
   "execution_count": 3,
   "metadata": {},
   "outputs": [],
   "source": [
    "heavy = [1, 8, 9, 10]\n",
    "light = range(2, 8)"
   ]
  },
  {
   "cell_type": "code",
   "execution_count": 4,
   "metadata": {},
   "outputs": [],
   "source": [
    "df = pd.read_pickle('{}/{}_circ.pkl'.format(station, year))"
   ]
  },
  {
   "cell_type": "code",
   "execution_count": 5,
   "metadata": {},
   "outputs": [
    {
     "data": {
      "text/html": [
       "<div>\n",
       "<style scoped>\n",
       "    .dataframe tbody tr th:only-of-type {\n",
       "        vertical-align: middle;\n",
       "    }\n",
       "\n",
       "    .dataframe tbody tr th {\n",
       "        vertical-align: top;\n",
       "    }\n",
       "\n",
       "    .dataframe thead th {\n",
       "        text-align: right;\n",
       "    }\n",
       "</style>\n",
       "<table border=\"1\" class=\"dataframe\">\n",
       "  <thead>\n",
       "    <tr style=\"text-align: right;\">\n",
       "      <th></th>\n",
       "      <th>z</th>\n",
       "      <th>Lane</th>\n",
       "      <th>Dir</th>\n",
       "      <th>Headway</th>\n",
       "      <th>IVT</th>\n",
       "      <th>Speed</th>\n",
       "      <th>Length</th>\n",
       "      <th>SwissT</th>\n",
       "      <th>Time</th>\n",
       "      <th>Date</th>\n",
       "      <th>index</th>\n",
       "    </tr>\n",
       "  </thead>\n",
       "  <tbody>\n",
       "    <tr>\n",
       "      <th>0</th>\n",
       "      <td>0.0</td>\n",
       "      <td>5</td>\n",
       "      <td>1</td>\n",
       "      <td>99.9</td>\n",
       "      <td>99.9</td>\n",
       "      <td>109.0</td>\n",
       "      <td>384.0</td>\n",
       "      <td>3</td>\n",
       "      <td>0.020564</td>\n",
       "      <td>2017-01-01 00:01:14.003</td>\n",
       "      <td>0</td>\n",
       "    </tr>\n",
       "    <tr>\n",
       "      <th>1</th>\n",
       "      <td>0.0</td>\n",
       "      <td>2</td>\n",
       "      <td>1</td>\n",
       "      <td>99.9</td>\n",
       "      <td>99.9</td>\n",
       "      <td>110.0</td>\n",
       "      <td>518.0</td>\n",
       "      <td>3</td>\n",
       "      <td>0.023911</td>\n",
       "      <td>2017-01-01 00:01:26.008</td>\n",
       "      <td>1</td>\n",
       "    </tr>\n",
       "    <tr>\n",
       "      <th>2</th>\n",
       "      <td>0.0</td>\n",
       "      <td>5</td>\n",
       "      <td>1</td>\n",
       "      <td>13.9</td>\n",
       "      <td>13.8</td>\n",
       "      <td>112.0</td>\n",
       "      <td>379.0</td>\n",
       "      <td>3</td>\n",
       "      <td>0.024450</td>\n",
       "      <td>2017-01-01 00:01:28.002</td>\n",
       "      <td>2</td>\n",
       "    </tr>\n",
       "    <tr>\n",
       "      <th>3</th>\n",
       "      <td>0.0</td>\n",
       "      <td>5</td>\n",
       "      <td>1</td>\n",
       "      <td>0.6</td>\n",
       "      <td>0.5</td>\n",
       "      <td>115.0</td>\n",
       "      <td>448.0</td>\n",
       "      <td>3</td>\n",
       "      <td>0.024636</td>\n",
       "      <td>2017-01-01 00:01:28.069</td>\n",
       "      <td>3</td>\n",
       "    </tr>\n",
       "    <tr>\n",
       "      <th>4</th>\n",
       "      <td>0.0</td>\n",
       "      <td>5</td>\n",
       "      <td>1</td>\n",
       "      <td>7.5</td>\n",
       "      <td>7.4</td>\n",
       "      <td>116.0</td>\n",
       "      <td>426.0</td>\n",
       "      <td>3</td>\n",
       "      <td>0.026739</td>\n",
       "      <td>2017-01-01 00:01:36.026</td>\n",
       "      <td>4</td>\n",
       "    </tr>\n",
       "    <tr>\n",
       "      <th>...</th>\n",
       "      <td>...</td>\n",
       "      <td>...</td>\n",
       "      <td>...</td>\n",
       "      <td>...</td>\n",
       "      <td>...</td>\n",
       "      <td>...</td>\n",
       "      <td>...</td>\n",
       "      <td>...</td>\n",
       "      <td>...</td>\n",
       "      <td>...</td>\n",
       "      <td>...</td>\n",
       "    </tr>\n",
       "    <tr>\n",
       "      <th>19019820</th>\n",
       "      <td>0.0</td>\n",
       "      <td>1</td>\n",
       "      <td>1</td>\n",
       "      <td>99.9</td>\n",
       "      <td>99.9</td>\n",
       "      <td>72.0</td>\n",
       "      <td>400.0</td>\n",
       "      <td>3</td>\n",
       "      <td>23.966433</td>\n",
       "      <td>2017-12-31 23:57:59.016</td>\n",
       "      <td>19019820</td>\n",
       "    </tr>\n",
       "    <tr>\n",
       "      <th>19019821</th>\n",
       "      <td>0.0</td>\n",
       "      <td>5</td>\n",
       "      <td>1</td>\n",
       "      <td>25.0</td>\n",
       "      <td>24.8</td>\n",
       "      <td>107.0</td>\n",
       "      <td>431.0</td>\n",
       "      <td>3</td>\n",
       "      <td>23.967814</td>\n",
       "      <td>2017-12-31 23:58:04.013</td>\n",
       "      <td>19019821</td>\n",
       "    </tr>\n",
       "    <tr>\n",
       "      <th>19019822</th>\n",
       "      <td>0.0</td>\n",
       "      <td>5</td>\n",
       "      <td>1</td>\n",
       "      <td>6.9</td>\n",
       "      <td>6.8</td>\n",
       "      <td>122.0</td>\n",
       "      <td>382.0</td>\n",
       "      <td>3</td>\n",
       "      <td>23.969744</td>\n",
       "      <td>2017-12-31 23:58:11.008</td>\n",
       "      <td>19019822</td>\n",
       "    </tr>\n",
       "    <tr>\n",
       "      <th>19019823</th>\n",
       "      <td>0.0</td>\n",
       "      <td>5</td>\n",
       "      <td>1</td>\n",
       "      <td>7.5</td>\n",
       "      <td>7.4</td>\n",
       "      <td>116.0</td>\n",
       "      <td>358.0</td>\n",
       "      <td>3</td>\n",
       "      <td>23.971831</td>\n",
       "      <td>2017-12-31 23:58:18.059</td>\n",
       "      <td>19019823</td>\n",
       "    </tr>\n",
       "    <tr>\n",
       "      <th>19019824</th>\n",
       "      <td>0.0</td>\n",
       "      <td>5</td>\n",
       "      <td>1</td>\n",
       "      <td>4.6</td>\n",
       "      <td>4.5</td>\n",
       "      <td>124.0</td>\n",
       "      <td>413.0</td>\n",
       "      <td>3</td>\n",
       "      <td>23.973111</td>\n",
       "      <td>2017-12-31 23:58:23.020</td>\n",
       "      <td>19019824</td>\n",
       "    </tr>\n",
       "  </tbody>\n",
       "</table>\n",
       "<p>19003197 rows × 11 columns</p>\n",
       "</div>"
      ],
      "text/plain": [
       "            z  Lane  Dir  Headway   IVT  Speed  Length  SwissT       Time  \\\n",
       "0         0.0     5    1     99.9  99.9  109.0   384.0       3   0.020564   \n",
       "1         0.0     2    1     99.9  99.9  110.0   518.0       3   0.023911   \n",
       "2         0.0     5    1     13.9  13.8  112.0   379.0       3   0.024450   \n",
       "3         0.0     5    1      0.6   0.5  115.0   448.0       3   0.024636   \n",
       "4         0.0     5    1      7.5   7.4  116.0   426.0       3   0.026739   \n",
       "...       ...   ...  ...      ...   ...    ...     ...     ...        ...   \n",
       "19019820  0.0     1    1     99.9  99.9   72.0   400.0       3  23.966433   \n",
       "19019821  0.0     5    1     25.0  24.8  107.0   431.0       3  23.967814   \n",
       "19019822  0.0     5    1      6.9   6.8  122.0   382.0       3  23.969744   \n",
       "19019823  0.0     5    1      7.5   7.4  116.0   358.0       3  23.971831   \n",
       "19019824  0.0     5    1      4.6   4.5  124.0   413.0       3  23.973111   \n",
       "\n",
       "                            Date     index  \n",
       "0        2017-01-01 00:01:14.003         0  \n",
       "1        2017-01-01 00:01:26.008         1  \n",
       "2        2017-01-01 00:01:28.002         2  \n",
       "3        2017-01-01 00:01:28.069         3  \n",
       "4        2017-01-01 00:01:36.026         4  \n",
       "...                          ...       ...  \n",
       "19019820 2017-12-31 23:57:59.016  19019820  \n",
       "19019821 2017-12-31 23:58:04.013  19019821  \n",
       "19019822 2017-12-31 23:58:11.008  19019822  \n",
       "19019823 2017-12-31 23:58:18.059  19019823  \n",
       "19019824 2017-12-31 23:58:23.020  19019824  \n",
       "\n",
       "[19003197 rows x 11 columns]"
      ]
     },
     "execution_count": 5,
     "metadata": {},
     "output_type": "execute_result"
    }
   ],
   "source": [
    "df.head(-5)"
   ]
  },
  {
   "cell_type": "code",
   "execution_count": 6,
   "metadata": {},
   "outputs": [
    {
     "data": {
      "text/plain": [
       "array([ 3,  4,  5,  2,  6, 10,  1,  8,  9,  7,  0, 17, 35, 16],\n",
       "      dtype=int32)"
      ]
     },
     "execution_count": 6,
     "metadata": {},
     "output_type": "execute_result"
    }
   ],
   "source": [
    "df.SwissT.unique()"
   ]
  },
  {
   "cell_type": "code",
   "execution_count": 7,
   "metadata": {},
   "outputs": [
    {
     "data": {
      "text/html": [
       "<div>\n",
       "<style scoped>\n",
       "    .dataframe tbody tr th:only-of-type {\n",
       "        vertical-align: middle;\n",
       "    }\n",
       "\n",
       "    .dataframe tbody tr th {\n",
       "        vertical-align: top;\n",
       "    }\n",
       "\n",
       "    .dataframe thead th {\n",
       "        text-align: right;\n",
       "    }\n",
       "</style>\n",
       "<table border=\"1\" class=\"dataframe\">\n",
       "  <thead>\n",
       "    <tr style=\"text-align: right;\">\n",
       "      <th></th>\n",
       "      <th>Date</th>\n",
       "    </tr>\n",
       "    <tr>\n",
       "      <th>SwissT</th>\n",
       "      <th></th>\n",
       "    </tr>\n",
       "  </thead>\n",
       "  <tbody>\n",
       "    <tr>\n",
       "      <th>0</th>\n",
       "      <td>21</td>\n",
       "    </tr>\n",
       "    <tr>\n",
       "      <th>1</th>\n",
       "      <td>116872</td>\n",
       "    </tr>\n",
       "    <tr>\n",
       "      <th>2</th>\n",
       "      <td>544649</td>\n",
       "    </tr>\n",
       "    <tr>\n",
       "      <th>3</th>\n",
       "      <td>14347974</td>\n",
       "    </tr>\n",
       "    <tr>\n",
       "      <th>4</th>\n",
       "      <td>97786</td>\n",
       "    </tr>\n",
       "    <tr>\n",
       "      <th>5</th>\n",
       "      <td>2481441</td>\n",
       "    </tr>\n",
       "    <tr>\n",
       "      <th>6</th>\n",
       "      <td>81533</td>\n",
       "    </tr>\n",
       "    <tr>\n",
       "      <th>7</th>\n",
       "      <td>45669</td>\n",
       "    </tr>\n",
       "    <tr>\n",
       "      <th>8</th>\n",
       "      <td>410383</td>\n",
       "    </tr>\n",
       "    <tr>\n",
       "      <th>9</th>\n",
       "      <td>204580</td>\n",
       "    </tr>\n",
       "    <tr>\n",
       "      <th>10</th>\n",
       "      <td>672291</td>\n",
       "    </tr>\n",
       "    <tr>\n",
       "      <th>16</th>\n",
       "      <td>1</td>\n",
       "    </tr>\n",
       "    <tr>\n",
       "      <th>17</th>\n",
       "      <td>1</td>\n",
       "    </tr>\n",
       "    <tr>\n",
       "      <th>35</th>\n",
       "      <td>1</td>\n",
       "    </tr>\n",
       "  </tbody>\n",
       "</table>\n",
       "</div>"
      ],
      "text/plain": [
       "            Date\n",
       "SwissT          \n",
       "0             21\n",
       "1         116872\n",
       "2         544649\n",
       "3       14347974\n",
       "4          97786\n",
       "5        2481441\n",
       "6          81533\n",
       "7          45669\n",
       "8         410383\n",
       "9         204580\n",
       "10        672291\n",
       "16             1\n",
       "17             1\n",
       "35             1"
      ]
     },
     "execution_count": 7,
     "metadata": {},
     "output_type": "execute_result"
    }
   ],
   "source": [
    "df.groupby('SwissT').agg({'Date': 'count'})"
   ]
  },
  {
   "cell_type": "code",
   "execution_count": 8,
   "metadata": {},
   "outputs": [],
   "source": [
    "#Only having the vehicles categorized in the SWISS10 will be allowed\n",
    "all_vehicles = np.concatenate((heavy, light))\n",
    "df = df[df.SwissT.isin(all_vehicles)]"
   ]
  },
  {
   "cell_type": "code",
   "execution_count": 9,
   "metadata": {},
   "outputs": [
    {
     "data": {
      "text/html": [
       "<div>\n",
       "<style scoped>\n",
       "    .dataframe tbody tr th:only-of-type {\n",
       "        vertical-align: middle;\n",
       "    }\n",
       "\n",
       "    .dataframe tbody tr th {\n",
       "        vertical-align: top;\n",
       "    }\n",
       "\n",
       "    .dataframe thead th {\n",
       "        text-align: right;\n",
       "    }\n",
       "</style>\n",
       "<table border=\"1\" class=\"dataframe\">\n",
       "  <thead>\n",
       "    <tr style=\"text-align: right;\">\n",
       "      <th></th>\n",
       "      <th>Date</th>\n",
       "    </tr>\n",
       "    <tr>\n",
       "      <th>SwissT</th>\n",
       "      <th></th>\n",
       "    </tr>\n",
       "  </thead>\n",
       "  <tbody>\n",
       "    <tr>\n",
       "      <th>1</th>\n",
       "      <td>116872</td>\n",
       "    </tr>\n",
       "    <tr>\n",
       "      <th>2</th>\n",
       "      <td>544649</td>\n",
       "    </tr>\n",
       "    <tr>\n",
       "      <th>3</th>\n",
       "      <td>14347974</td>\n",
       "    </tr>\n",
       "    <tr>\n",
       "      <th>4</th>\n",
       "      <td>97786</td>\n",
       "    </tr>\n",
       "    <tr>\n",
       "      <th>5</th>\n",
       "      <td>2481441</td>\n",
       "    </tr>\n",
       "    <tr>\n",
       "      <th>6</th>\n",
       "      <td>81533</td>\n",
       "    </tr>\n",
       "    <tr>\n",
       "      <th>7</th>\n",
       "      <td>45669</td>\n",
       "    </tr>\n",
       "    <tr>\n",
       "      <th>8</th>\n",
       "      <td>410383</td>\n",
       "    </tr>\n",
       "    <tr>\n",
       "      <th>9</th>\n",
       "      <td>204580</td>\n",
       "    </tr>\n",
       "    <tr>\n",
       "      <th>10</th>\n",
       "      <td>672291</td>\n",
       "    </tr>\n",
       "  </tbody>\n",
       "</table>\n",
       "</div>"
      ],
      "text/plain": [
       "            Date\n",
       "SwissT          \n",
       "1         116872\n",
       "2         544649\n",
       "3       14347974\n",
       "4          97786\n",
       "5        2481441\n",
       "6          81533\n",
       "7          45669\n",
       "8         410383\n",
       "9         204580\n",
       "10        672291"
      ]
     },
     "execution_count": 9,
     "metadata": {},
     "output_type": "execute_result"
    }
   ],
   "source": [
    "df.groupby('SwissT').agg({'Date': 'count'})"
   ]
  },
  {
   "cell_type": "code",
   "execution_count": 10,
   "metadata": {},
   "outputs": [],
   "source": [
    "df['Heavy_veh'] = df.SwissT.isin(heavy)"
   ]
  },
  {
   "cell_type": "code",
   "execution_count": 11,
   "metadata": {},
   "outputs": [
    {
     "data": {
      "text/html": [
       "<div>\n",
       "<style scoped>\n",
       "    .dataframe tbody tr th:only-of-type {\n",
       "        vertical-align: middle;\n",
       "    }\n",
       "\n",
       "    .dataframe tbody tr th {\n",
       "        vertical-align: top;\n",
       "    }\n",
       "\n",
       "    .dataframe thead th {\n",
       "        text-align: right;\n",
       "    }\n",
       "</style>\n",
       "<table border=\"1\" class=\"dataframe\">\n",
       "  <thead>\n",
       "    <tr style=\"text-align: right;\">\n",
       "      <th></th>\n",
       "      <th>Date</th>\n",
       "    </tr>\n",
       "    <tr>\n",
       "      <th>Heavy_veh</th>\n",
       "      <th></th>\n",
       "    </tr>\n",
       "  </thead>\n",
       "  <tbody>\n",
       "    <tr>\n",
       "      <th>False</th>\n",
       "      <td>17599052</td>\n",
       "    </tr>\n",
       "    <tr>\n",
       "      <th>True</th>\n",
       "      <td>1404126</td>\n",
       "    </tr>\n",
       "  </tbody>\n",
       "</table>\n",
       "</div>"
      ],
      "text/plain": [
       "               Date\n",
       "Heavy_veh          \n",
       "False      17599052\n",
       "True        1404126"
      ]
     },
     "execution_count": 11,
     "metadata": {},
     "output_type": "execute_result"
    }
   ],
   "source": [
    "df.groupby('Heavy_veh').agg({'Date': 'count'})"
   ]
  },
  {
   "cell_type": "code",
   "execution_count": 12,
   "metadata": {},
   "outputs": [],
   "source": [
    "df = df[df.Lane == 5] #Keeping only lane 5"
   ]
  },
  {
   "cell_type": "code",
   "execution_count": 13,
   "metadata": {},
   "outputs": [],
   "source": [
    "df['Adjusted_Headway'] = df['Headway'] - ((df['Length']*36)/(df['Speed']*1000))"
   ]
  },
  {
   "cell_type": "code",
   "execution_count": 14,
   "metadata": {},
   "outputs": [
    {
     "data": {
      "text/plain": [
       "0.9    127349\n",
       "0.8    121176\n",
       "0.7    110265\n",
       "0.6     95758\n",
       "0.5     75005\n",
       "0.4     50196\n",
       "0.3     26171\n",
       "0.2      8895\n",
       "0.1      1460\n",
       "0.0        63\n",
       "Name: IVT, dtype: int64"
      ]
     },
     "execution_count": 14,
     "metadata": {},
     "output_type": "execute_result"
    }
   ],
   "source": [
    "df[df['IVT'] < 1].IVT.value_counts()"
   ]
  },
  {
   "cell_type": "code",
   "execution_count": 15,
   "metadata": {},
   "outputs": [],
   "source": [
    "df['Prev_Headway'] = df['IVT'] + df['Headway'].shift(-1)"
   ]
  },
  {
   "cell_type": "code",
   "execution_count": 23,
   "metadata": {
    "scrolled": true
   },
   "outputs": [
    {
     "data": {
      "image/png": "[encoded data removed]",
      "text/plain": [
       "<Figure size 842.4x595.44 with 1 Axes>"
      ]
     },
     "metadata": {},
     "output_type": "display_data"
    }
   ],
   "source": [
    "fig, ax = plt.subplots()\n",
    "\n",
    "h1 = df[(df['IVT'] < 15) & df['Heavy_veh'].shift(-1) & df['Heavy_veh']].IVT.plot.hist(bins=74,title= \"{} Natural Truck-Truck Headways, {}\".format('137', 2017), ax=ax, label='HV-HV')\n",
    "h2 = df[(df['Prev_Headway'] < 15) & (~df['Heavy_veh'].shift(-1).fillna(99)) & df['Heavy_veh'] & df['Heavy_veh'].shift(-2)].Prev_Headway.plot.hist(bins=73,title= \"Heavy vehicle inter-vehicle time with and without a light vehicle between\", ax=ax, label='HV-LV-HV')\n",
    "#ax.legend((h1, h2), ('Truck-Truck', 'Truck-Car-Truck'), loc='upper right', shadow=True)\n",
    "ax.legend()\n",
    "ax.set_xlabel('Seconds between heavy vehicle')\n",
    "ax.set_ylabel('Frequency')\n",
    "plt.show()"
   ]
  },
  {
   "cell_type": "code",
   "execution_count": 22,
   "metadata": {},
   "outputs": [
    {
     "data": {
      "text/plain": [
       "2.4"
      ]
     },
     "execution_count": 22,
     "metadata": {},
     "output_type": "execute_result"
    }
   ],
   "source": [
    "df[(df['Prev_Headway'] < 15) & (~df['Heavy_veh'].shift(-1).fillna(99)) & df['Heavy_veh'] & df['Heavy_veh'].shift(-2)].Prev_Headway.quantile(0.025)"
   ]
  },
  {
   "cell_type": "markdown",
   "metadata": {},
   "source": [
    "The above is the IVT time between trucks that captures Truck-Truck events with only an incidence of capturing 2.5% of the Truck-Car-Truck events"
   ]
  },
  {
   "cell_type": "markdown",
   "metadata": {},
   "source": [
    "## Making Platoons with all data\n",
    "\n",
    "Initially upon the platoon creation there was the total weight, classes and length of the vehicles in each platoon but lacked the axle weights, axle distances and headways between each vehicle."
   ]
  },
  {
   "cell_type": "code",
   "execution_count": 7,
   "metadata": {},
   "outputs": [],
   "source": [
    "#First read in all historic WIM data\n",
    "station = 'Ceneri'\n",
    "df = pd.read_pickle('{}Data/{}_{}_datetime_all.pkl'.format(station, 2003, 2019))"
   ]
  },
  {
   "cell_type": "code",
   "execution_count": null,
   "metadata": {},
   "outputs": [],
   "source": [
    "df = df.set_index('Date')\n",
    "df = df.sort_index()"
   ]
  },
  {
   "cell_type": "code",
   "execution_count": null,
   "metadata": {},
   "outputs": [],
   "source": [
    "#First, look at constructing IVT (Inter-vehicle time)\n",
    "df['HEAD_T'] = (df.index.to_series().shift(-1) - df.index.to_series()).dt.total_seconds() #Truck headway"
   ]
  },
  {
   "cell_type": "code",
   "execution_count": null,
   "metadata": {},
   "outputs": [],
   "source": [
    "df.columns"
   ]
  },
  {
   "cell_type": "code",
   "execution_count": null,
   "metadata": {},
   "outputs": [],
   "source": [
    "df['IVT'] = df['HEAD_T'] - (df['LENTH']*3.6)/df['SPEED']"
   ]
  },
  {
   "cell_type": "code",
   "execution_count": null,
   "metadata": {},
   "outputs": [],
   "source": [
    "df['IVT'] = df.IVT.fillna(99) "
   ]
  },
  {
   "cell_type": "code",
   "execution_count": null,
   "metadata": {},
   "outputs": [],
   "source": [
    "df.IVT.isna().sum()"
   ]
  },
  {
   "cell_type": "code",
   "execution_count": null,
   "metadata": {},
   "outputs": [],
   "source": [
    "df = df[df.SPEED != 0]"
   ]
  },
  {
   "cell_type": "code",
   "execution_count": null,
   "metadata": {},
   "outputs": [],
   "source": [
    "df = df[df.IVT > 0] # Remove any IVT calculated to be less than 0"
   ]
  },
  {
   "cell_type": "code",
   "execution_count": null,
   "metadata": {},
   "outputs": [],
   "source": [
    "df.shape"
   ]
  },
  {
   "cell_type": "code",
   "execution_count": null,
   "metadata": {
    "scrolled": true
   },
   "outputs": [],
   "source": [
    "df"
   ]
  },
  {
   "cell_type": "code",
   "execution_count": null,
   "metadata": {
    "scrolled": true
   },
   "outputs": [],
   "source": [
    "df[df.IVT < 10].IVT.hist(bins=100)"
   ]
  },
  {
   "cell_type": "code",
   "execution_count": 9,
   "metadata": {},
   "outputs": [],
   "source": [
    "#Takes in the station and the number of the inner lanes in both directions for the period of 2014-2016\n",
    "def one_lane_platoon_all(df):    \n",
    "    \n",
    "    mode = False \n",
    "    ivt_seconds = 2.4 #2,4 when looking at the 97.5 percentile from only lane 5, corresponding lane to lane \n",
    "    lane = 4 \n",
    "    \n",
    "    df_lane = df.loc[df['FS'] == lane]\n",
    "\n",
    "    df_lane = df_lane.set_index('Date')\n",
    "    df_lane = df_lane.sort_index()\n",
    "    df_lane['HEAD_T'] =(df_lane.index.to_series().shift(-1) - df_lane.index.to_series()).dt.total_seconds() #Truck headway\n",
    "\n",
    "    df_lane['IVT'] = df_lane['HEAD_T'] - (df_lane['LENTH']*3.6)/df_lane['SPEED']\n",
    "    df_lane['IVT'] = df_lane.IVT.fillna(99) \n",
    "    df_lane = df_lane[df_lane.IVT > 0] # Remove any IVT calculated to be less than 0 (around 3%)\n",
    "    \n",
    "    threshold_selector = df_lane.IVT > ivt_seconds #defines a IVT of threshold\n",
    "    groups = threshold_selector.cumsum()\n",
    "    df_lane['Start']  = df_lane.index.to_series()\n",
    "    df_lane['End'] = df_lane.index.to_series()\n",
    "    df_lane_platoon = df_lane.groupby(groups).agg({'Start':min, 'End':max, 'CLASS': lambda x: x.tolist(), 'GW_TOT': lambda x: x.tolist(), 'LENTH': lambda x: x.tolist(),\n",
    "                                                  'AX': lambda x: x.tolist(), 'AX_W': lambda x: x.tolist(), 'AX_DIST': lambda x: x.tolist(), 'IVT': lambda x: x.tolist(), \n",
    "                                                  'SPEED': lambda x: x.tolist()})\n",
    "    df_lane_platoon['Platoon'] = (df_lane_platoon.CLASS.str.len() > 1)\n",
    "    df_lane_platoon['Length'] = df_lane_platoon.CLASS.str.len()\n",
    "    #df_plot = df_lane_platoon[df_lane_platoon.Length > 1]\n",
    "    #ax = df_plot['Length'].plot.hist(bins=10, title= \"{} Lane Platoon Frequencies Greater than 1\".format(lane)) \n",
    "    #ax.set_xlabel('Number of Vehicles in Platoon')\n",
    "    #plt.show()\n",
    "    if mode:\n",
    "        #Display the combinations of platoons that are the most common for 2, 3 and 4 length\n",
    "        print(df_lane_platoon[df_lane_platoon.Length == 2].CLASS.apply(tuple).value_counts().head().to_string())\n",
    "        print(df_lane_platoon[df_lane_platoon.Length == 3].CLASS.apply(tuple).value_counts().head().to_string())\n",
    "        print(df_lane_platoon[df_lane_platoon.Length == 4].CLASS.apply(tuple).value_counts().head().to_string())\n",
    "    df_lane_platoon['Lane'] = int(lane)\n",
    "    \n",
    "    return df_lane_platoon"
   ]
  },
  {
   "cell_type": "code",
   "execution_count": null,
   "metadata": {},
   "outputs": [],
   "source": [
    "station = 'Ceneri'\n",
    "df = pd.read_pickle('{}Data/{}_{}_datetime_all.pkl'.format(station, 2003, 2019))\n"
   ]
  },
  {
   "cell_type": "code",
   "execution_count": 8,
   "metadata": {},
   "outputs": [],
   "source": [
    "def parallelize_dataframe(df, func, n_cores=10):\n",
    "    df_split = np.array_split(df, n_cores)\n",
    "    ctx = mp.get_context('spawn')\n",
    "    pool = ctx.Pool(n_cores)\n",
    "    df = pd.concat(pool.map(func, df_split))\n",
    "    pool.close()\n",
    "    pool.join()\n",
    "    return df"
   ]
  },
  {
   "cell_type": "code",
   "execution_count": null,
   "metadata": {},
   "outputs": [],
   "source": [
    "df.columns"
   ]
  },
  {
   "cell_type": "code",
   "execution_count": 10,
   "metadata": {},
   "outputs": [],
   "source": [
    "platoon_df = parallelize_dataframe(df, one_lane_platoon_all, (mp.cpu_count() - 10))"
   ]
  },
  {
   "cell_type": "code",
   "execution_count": 11,
   "metadata": {},
   "outputs": [],
   "source": [
    "platoon_df.to_pickle('{}Data/{}_{}_platoon_h{}_lane{}.pkl'.format(station, 2003, 2019,2.4, 4))"
   ]
  },
  {
   "cell_type": "code",
   "execution_count": null,
   "metadata": {},
   "outputs": [],
   "source": []
  }
 ],
 "metadata": {
  "kernelspec": {
   "display_name": "Python [conda env:.conda-bridge]",
   "language": "python",
   "name": "conda-env-.conda-bridge-py"
  },
  "language_info": {
   "codemirror_mode": {
    "name": "ipython",
    "version": 3
   },
   "file_extension": ".py",
   "mimetype": "text/x-python",
   "name": "python",
   "nbconvert_exporter": "python",
   "pygments_lexer": "ipython3",
   "version": "3.7.9"
  }
 },
 "nbformat": 4,
 "nbformat_minor": 2
}
