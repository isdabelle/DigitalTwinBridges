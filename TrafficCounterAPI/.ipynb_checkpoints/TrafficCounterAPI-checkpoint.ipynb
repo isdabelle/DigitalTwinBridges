{
 "cells": [
  {
   "cell_type": "markdown",
   "metadata": {},
   "source": [
    "# Traffic Counter API\n",
    "\n",
    "The purpose of this file is to use the Traffic Counter API to download different circulation traffic data during different days and times. \n",
    "\n",
    "This data is only available as real time, there is no option for historical data. \n",
    "\n",
    "It also only provides an aggregated view of each Measurement Site Record(MSR) site in the form of vehicule count and vehicule average speed in two categories. These two categories are light vehcules(Swiss Class 1-7) and heavy vehicules(Swiss Class 8-10)"
   ]
  },
  {
   "cell_type": "code",
   "execution_count": null,
   "metadata": {},
   "outputs": [],
   "source": [
    "import requests \n"
   ]
  },
  {
   "cell_type": "code",
   "execution_count": null,
   "metadata": {},
   "outputs": [],
   "source": [
    "APIKey = \"57c5dbbbf1fe4d000100001864f57e44750047d3a1116044ca14cbd1\"\n",
    "MSR_id = \n",
    "API_url = \"https://api.opentransportdata.swiss/TDP/Soap_Datex2/Pull\""
   ]
  },
  {
   "cell_type": "code",
   "execution_count": null,
   "metadata": {},
   "outputs": [],
   "source": [
    "#Creation of the header for the request\n",
    "headers = {'Authorization': APIKey,\n",
    "           'Content-Type': 'text/XML'}\n",
    "\n",
    "#Required parameters for a request\n",
    "params = {\n",
    "    Lang = \"en\",\n",
    "    publicationTime: ,#The current request timestamp\n",
    "    country: \"Switerland\",\n",
    "    nationalIdentifier: \"anyid\", #Can be anything\n",
    "    \n",
    "    \n",
    "}"
   ]
  }
 ],
 "metadata": {
  "kernelspec": {
   "display_name": "Python 3",
   "language": "python",
   "name": "python3"
  },
  "language_info": {
   "codemirror_mode": {
    "name": "ipython",
    "version": 3
   },
   "file_extension": ".py",
   "mimetype": "text/x-python",
   "name": "python",
   "nbconvert_exporter": "python",
   "pygments_lexer": "ipython3",
   "version": "3.7.3"
  }
 },
 "nbformat": 4,
 "nbformat_minor": 2
}
