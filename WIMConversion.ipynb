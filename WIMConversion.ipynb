{
 "cells": [
  {
   "cell_type": "markdown",
   "metadata": {},
   "source": [
    "# Matlab to .pkl Conversion\n",
    "\n",
    "The purpose of this notebook is to streamline the conversion of the WIM data from matlab into a useable form. This involves converting first the Matlab table to a struct and then in python converting this struct as well as combining different structs representing different years. Currently years 2011-2019 are combined. The date/times are also converted to a single datetime.\n"
   ]
  },
  {
   "cell_type": "code",
   "execution_count": 1,
   "metadata": {},
   "outputs": [],
   "source": [
    "import scipy.io\n",
    "import pandas as pd\n",
    "import numpy as np"
   ]
  },
  {
   "cell_type": "code",
   "execution_count": 2,
   "metadata": {},
   "outputs": [],
   "source": [
    "def load_table_from_struct(table_structure) -> pd.DataFrame():\n",
    "\n",
    "    # get prepared data structure\n",
    "    data = table_structure[0, 0]['table']['data']\n",
    "    # get prepared column names\n",
    "    data_cols = [name[0] for name in table_structure[0, 0]['columns'][0]]\n",
    "\n",
    "    # create dict out of original table\n",
    "    table_dict = {}\n",
    "    for colidx in range(len(data_cols)):\n",
    "        if data_cols[colidx] != 'HH':\n",
    "            table_dict[data_cols[colidx]] = [val[0] for val in data[0, 0][0, colidx]]\n",
    "    \n",
    "    return pd.DataFrame(table_dict)"
   ]
  },
  {
   "cell_type": "code",
   "execution_count": 23,
   "metadata": {},
   "outputs": [],
   "source": [
    "def df_cleaning(df, counting_only):\n",
    "    \n",
    "    #If this will be used for counting only, eliminate the axle weights, etc\n",
    "    if not counting_only:\n",
    "        df = df[['FS', 'GW_TOT', 'CLASS', 'HHMMSS', 'JJJJMMTT', 'ZST', 'LENTH', 'CS']]\n",
    "        print('removed')\n",
    "    \n",
    "    #Combine axle weights and axle distances into columns\n",
    "    ax_cols = [col for col in df if col.startswith('AW')]\n",
    "    df['AX_W'] = df[ax_cols].values.tolist()\n",
    "    df = df.drop(columns=ax_cols)\n",
    "    w_cols = [col for col in df if col.startswith('W')]\n",
    "    df['AX_DIST'] = df[w_cols].values.tolist()\n",
    "    df = df.drop(columns=w_cols)\n",
    "    \n",
    "    df['HHMMSS'] = df['HHMMSS'].astype(str) \n",
    "    df['HH'] = df['HHMMSS'].str[:-4]\n",
    "    df['MMSS'] = df['HHMMSS'].str[-4:]\n",
    "    df['MM'] = df['MMSS'].str[:-2]\n",
    "    df = df.replace(r'', np.nan, regex=True)\n",
    "    df = df.fillna(0)\n",
    "    df['HH'] = df['HH'].astype(int)\n",
    "    df['MM'] = df['MM'].astype(int)\n",
    "    df['Date'] = df['JJJJMMTT'].apply(lambda x: pd.to_datetime(str(x), format='%Y%m%d'))\n",
    "    df = df.drop(columns=['JJJJMMTT'])\n",
    "    df['Date'] += pd.to_timedelta(df.HH, unit='h')\n",
    "    df['Date'] += pd.to_timedelta(df.MM, unit='m')\n",
    "    df['SS'] = df['MMSS'].str[-2:]\n",
    "    df['SS'] = df['SS'].astype(int)\n",
    "    df['Date'] += pd.to_timedelta(df.SS, unit='s')\n",
    "    df = df.drop(columns=['HH', 'MM', 'SS', 'MMSS', 'HHMMSS'])\n",
    "    \n",
    "    return df"
   ]
  },
  {
   "cell_type": "code",
   "execution_count": 4,
   "metadata": {},
   "outputs": [],
   "source": [
    "def to_pickle(station, start_year, end_year, all_columns):\n",
    "    dfs = []\n",
    "    for year in range(start_year, end_year+1):\n",
    "        struct = scipy.io.loadmat('{}Data/{}_{}_struct.mat'.format(station, station, year))\n",
    "        df = load_table_from_struct(struct['{}_struct'.format(station)])\n",
    "        df = df_cleaning(df, all_columns)\n",
    "        dfs.append(df)\n",
    "        print('Finished year: {}'.format(year))\n",
    "\n",
    "    df = pd.concat(dfs, ignore_index=True)\n",
    "    if all_columns:\n",
    "        df.to_pickle('{}Data/{}_{}_datetime_all.pkl'.format(station, start_year, end_year))\n",
    "    else:\n",
    "        df.to_pickle('{}Data/{}_{}_datetime.pkl'.format(station, start_year, end_year))"
   ]
  },
  {
   "cell_type": "code",
   "execution_count": 5,
   "metadata": {},
   "outputs": [],
   "source": [
    "#Load the date_time all and see if they contain the needed info\n",
    "station = \"Ceneri\"\n"
   ]
  },
  {
   "cell_type": "code",
   "execution_count": 24,
   "metadata": {},
   "outputs": [],
   "source": [
    "to_pickle(station, 2003, 2019, True)"
   ]
  }
 ],
 "metadata": {
  "kernelspec": {
   "display_name": "Python 3",
   "language": "python",
   "name": "python3"
  },
  "language_info": {
   "codemirror_mode": {
    "name": "ipython",
    "version": 3
   },
   "file_extension": ".py",
   "mimetype": "text/x-python",
   "name": "python",
   "nbconvert_exporter": "python",
   "pygments_lexer": "ipython3",
   "version": "3.7.9"
  }
 },
 "nbformat": 4,
 "nbformat_minor": 2
}
