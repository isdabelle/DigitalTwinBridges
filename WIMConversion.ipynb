{
 "cells": [
  {
   "cell_type": "markdown",
   "metadata": {},
   "source": [
    "# Matlab to .pkl Conversion\n",
    "\n",
    "The purpose of this notebook is to streamline the conversion of the WIM data from matlab into a useable form. This involves converting first the Matlab table to a struct and then in python converting this struct as well as combining different structs representing different years. Currently years 2011-2019 are combined. The date/times are also converted to a single datetime.\n"
   ]
  },
  {
   "cell_type": "code",
   "execution_count": 11,
   "metadata": {},
   "outputs": [],
   "source": [
    "import scipy.io\n",
    "import pandas as pd\n",
    "import numpy as np"
   ]
  },
  {
   "cell_type": "code",
   "execution_count": 12,
   "metadata": {},
   "outputs": [],
   "source": [
    "def load_table_from_struct(table_structure) -> pd.DataFrame():\n",
    "\n",
    "    # get prepared data structure\n",
    "    data = table_structure[0, 0]['table']['data']\n",
    "    # get prepared column names\n",
    "    data_cols = [name[0] for name in table_structure[0, 0]['columns'][0]]\n",
    "\n",
    "    # create dict out of original table\n",
    "    table_dict = {}\n",
    "    for colidx in range(len(data_cols)):\n",
    "        if data_cols[colidx] != 'HH':\n",
    "            table_dict[data_cols[colidx]] = [val[0] for val in data[0, 0][0, colidx]]\n",
    "    \n",
    "    return pd.DataFrame(table_dict)"
   ]
  },
  {
   "cell_type": "code",
   "execution_count": 13,
   "metadata": {},
   "outputs": [],
   "source": [
    "def df_cleaning(df, counting_only):\n",
    "    \n",
    "    #If this will be used for counting only, eliminate the axle weights, etc\n",
    "    if counting_only:\n",
    "        df = df[['FS', 'GW_TOT', 'CLASS', 'HHMMSS', 'JJJJMMTT', 'ZST', 'LENTH', 'CS']]\n",
    "    \n",
    "    df['HHMMSS'] = df['HHMMSS'].astype(str) \n",
    "    df['HH'] = df['HHMMSS'].str[:-4]\n",
    "    df['MMSS'] = df['HHMMSS'].str[-4:]\n",
    "    df['MM'] = df['MMSS'].str[:-2]\n",
    "    df = df.replace(r'', np.nan, regex=True)\n",
    "    df = df.fillna(0)\n",
    "    df['HH'] = df['HH'].astype(int)\n",
    "    df['MM'] = df['MM'].astype(int)\n",
    "    df['Date'] = df['JJJJMMTT'].apply(lambda x: pd.to_datetime(str(x), format='%Y%m%d'))\n",
    "    df = df.drop(columns=['JJJJMMTT'])\n",
    "    df['Date'] += pd.to_timedelta(df.HH, unit='h')\n",
    "    df['Date'] += pd.to_timedelta(df.MM, unit='m')\n",
    "    df['SS'] = df['MMSS'].str[-2:]\n",
    "    df['SS'] = df['SS'].astype(int)\n",
    "    df['Date'] += pd.to_timedelta(df.SS, unit='s')\n",
    "    df = df.drop(columns=['HH', 'MM', 'SS', 'MMSS', 'HHMMSS'])\n",
    "    return df"
   ]
  },
  {
   "cell_type": "code",
   "execution_count": 22,
   "metadata": {},
   "outputs": [
    {
     "name": "stderr",
     "output_type": "stream",
     "text": [
      "C:\\Users\\Isabelle\\Anaconda3\\lib\\site-packages\\ipykernel_launcher.py:7: SettingWithCopyWarning: \n",
      "A value is trying to be set on a copy of a slice from a DataFrame.\n",
      "Try using .loc[row_indexer,col_indexer] = value instead\n",
      "\n",
      "See the caveats in the documentation: https://pandas.pydata.org/pandas-docs/stable/user_guide/indexing.html#returning-a-view-versus-a-copy\n",
      "  import sys\n",
      "C:\\Users\\Isabelle\\Anaconda3\\lib\\site-packages\\ipykernel_launcher.py:8: SettingWithCopyWarning: \n",
      "A value is trying to be set on a copy of a slice from a DataFrame.\n",
      "Try using .loc[row_indexer,col_indexer] = value instead\n",
      "\n",
      "See the caveats in the documentation: https://pandas.pydata.org/pandas-docs/stable/user_guide/indexing.html#returning-a-view-versus-a-copy\n",
      "  \n",
      "C:\\Users\\Isabelle\\Anaconda3\\lib\\site-packages\\ipykernel_launcher.py:9: SettingWithCopyWarning: \n",
      "A value is trying to be set on a copy of a slice from a DataFrame.\n",
      "Try using .loc[row_indexer,col_indexer] = value instead\n",
      "\n",
      "See the caveats in the documentation: https://pandas.pydata.org/pandas-docs/stable/user_guide/indexing.html#returning-a-view-versus-a-copy\n",
      "  if __name__ == '__main__':\n",
      "C:\\Users\\Isabelle\\Anaconda3\\lib\\site-packages\\ipykernel_launcher.py:10: SettingWithCopyWarning: \n",
      "A value is trying to be set on a copy of a slice from a DataFrame.\n",
      "Try using .loc[row_indexer,col_indexer] = value instead\n",
      "\n",
      "See the caveats in the documentation: https://pandas.pydata.org/pandas-docs/stable/user_guide/indexing.html#returning-a-view-versus-a-copy\n",
      "  # Remove the CWD from sys.path while we load stuff.\n"
     ]
    }
   ],
   "source": [
    "#Loading matrices from struct in matlab\n",
    "\n",
    "dfs = []\n",
    "\n",
    "station = \"Gotthard\"\n",
    "\n",
    "for year in range(2011, 2020):\n",
    "    struct = scipy.io.loadmat('{}Data/{}_{}_struct.mat'.format(station, station, year))\n",
    "    df = load_table_from_struct(struct['{}_struct'.format(station)])\n",
    "    df = df_cleaning(df, True)\n",
    "    dfs.append(df)\n",
    "    \n",
    "df = pd.concat(dfs, ignore_index=True)"
   ]
  },
  {
   "cell_type": "code",
   "execution_count": 23,
   "metadata": {},
   "outputs": [
    {
     "data": {
      "text/plain": [
       "Index(['FS', 'GW_TOT', 'CLASS', 'ZST', 'LENTH', 'CS', 'Date'], dtype='object')"
      ]
     },
     "execution_count": 23,
     "metadata": {},
     "output_type": "execute_result"
    }
   ],
   "source": [
    "df.keys()"
   ]
  },
  {
   "cell_type": "markdown",
   "metadata": {},
   "source": [
    "All of the columns from the classified data from matlab were decided to be kept. Below the times are converted to a functioning datetime, then the now not needed other columsn for time/date are dropped."
   ]
  },
  {
   "cell_type": "code",
   "execution_count": 24,
   "metadata": {},
   "outputs": [],
   "source": [
    "df.to_pickle('{}Data/2011_2019_datetime.pkl'.format(station))"
   ]
  },
  {
   "cell_type": "code",
   "execution_count": null,
   "metadata": {},
   "outputs": [],
   "source": []
  }
 ],
 "metadata": {
  "kernelspec": {
   "display_name": "Python 3",
   "language": "python",
   "name": "python3"
  },
  "language_info": {
   "codemirror_mode": {
    "name": "ipython",
    "version": 3
   },
   "file_extension": ".py",
   "mimetype": "text/x-python",
   "name": "python",
   "nbconvert_exporter": "python",
   "pygments_lexer": "ipython3",
   "version": "3.7.3"
  }
 },
 "nbformat": 4,
 "nbformat_minor": 2
}
