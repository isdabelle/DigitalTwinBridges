{
 "cells": [
  {
   "cell_type": "markdown",
   "metadata": {},
   "source": [
    "# Main\n",
    "\n",
    "This is the main file of the DigitalTwinBridge project by Isabelle Pumford. Here the functions from the other files will be called so that an easy pipeline can be created for analyzing different years/stations"
   ]
  },
  {
   "cell_type": "code",
   "execution_count": null,
   "metadata": {},
   "outputs": [],
   "source": [
    "from ipynb.fs.defs.Lanes import trucks_per_lane, weight_per_lane\n",
    "from ipynb.fs.defs.WIMConversion import load_table_from_struct, df_cleaning, to_pickle\n",
    "from ipynb.fs.defs.YearlyTrends import yearly_daily_vehicle, yearly_weight, yearly_platoon\n",
    "from ipynb.fs.defs.Seasonality import platoon_seasonality, count_seasonality, weight_seasonality\n",
    "from ipynb.fs.defs.PlatoonFinding import one_lane_platoon, truck_type_filter, truck_type_graph, violin_weight_length, platoon_log_hist"
   ]
  },
  {
   "cell_type": "code",
   "execution_count": null,
   "metadata": {},
   "outputs": [],
   "source": [
    "stations = ['Ceneri']\n",
    "start_year = 2003\n",
    "end_year = 2010\n",
    "platoon_headway = 2\n",
    "seasonality = 'Daily'"
   ]
  },
  {
   "cell_type": "code",
   "execution_count": 1,
   "metadata": {},
   "outputs": [],
   "source": [
    "import torch"
   ]
  },
  {
   "cell_type": "code",
   "execution_count": 2,
   "metadata": {
    "scrolled": true
   },
   "outputs": [
    {
     "name": "stderr",
     "output_type": "stream",
     "text": [
      "/home/pumford/.conda/envs/bridge/lib/python3.7/site-packages/torch/cuda/__init__.py:52: UserWarning: CUDA initialization: Found no NVIDIA driver on your system. Please check that you have an NVIDIA GPU and installed a driver from http://www.nvidia.com/Download/index.aspx (Triggered internally at  /pytorch/c10/cuda/CUDAFunctions.cpp:100.)\n",
      "  return torch._C._cuda_getDeviceCount() > 0\n"
     ]
    },
    {
     "data": {
      "text/plain": [
       "False"
      ]
     },
     "execution_count": 2,
     "metadata": {},
     "output_type": "execute_result"
    }
   ],
   "source": [
    "torch.cuda.is_available()"
   ]
  },
  {
   "cell_type": "code",
   "execution_count": null,
   "metadata": {},
   "outputs": [],
   "source": [
    "df_test = one_lane_platoon(station, start_year, end_year, False, platoon_headway)"
   ]
  },
  {
   "cell_type": "code",
   "execution_count": null,
   "metadata": {},
   "outputs": [],
   "source": [
    "to_pickle(stations[0], start_year, end_year, True)"
   ]
  },
  {
   "cell_type": "code",
   "execution_count": null,
   "metadata": {},
   "outputs": [],
   "source": [
    "import pandas as pd\n",
    "import matplotlib.pyplot as plt\n",
    "import seaborn as sns\n",
    "import numpy as np\n",
    "\n",
    "sns.set_style('darkgrid')\n",
    "plt.rc('figure',figsize=(12,8))\n",
    "plt.rc('font',size=13)\n",
    "sns.set(rc={'figure.figsize':(11.7,8.27)})\n",
    "\n",
    "df = pd.read_pickle('{}Data/{}_{}_datetime_all.pkl'.format(stations[0], start_year, end_year))    \n",
    "\n",
    "lanes = df.FS.unique()\n",
    "\n",
    "#For each lane in lanes, find the individual platoon histogram and most common platoon combinations\n",
    "df_platoon = []\n",
    "for lane in lanes:\n",
    "    df_lane = df.loc[df['FS'] == lane]\n",
    "\n",
    "    df_lane = df_lane.set_index('Date')\n",
    "    df_lane = df_lane.sort_index()\n",
    "    df_lane['HEAD_T'] =(df_lane.index.to_series().shift(-1) - df_lane.index.to_series()).dt.total_seconds() #Truck headway\n",
    "\n",
    "    threshold_selector = df_lane.HEAD_T > platoon_headway #defines a headway of three seconds as the threshold\n",
    "    groups = threshold_selector.cumsum()\n",
    "    df_lane['Start']  = df_lane.index.to_series()\n",
    "    df_lane['End'] = df_lane.index.to_series()\n",
    "    df_lane_platoon = df_lane.groupby(groups).agg({'Start':min, 'End':max, 'CLASS': lambda x: x.tolist(), 'GW_TOT': lambda x: x.tolist(), 'LENTH': lambda x: x.tolist(), })\n",
    "    df_lane_platoon['Platoon'] = (df_lane_platoon.CLASS.str.len() > 1)\n",
    "    df_lane_platoon['Length'] = df_lane_platoon.CLASS.str.len()\n",
    "    df_plot = df_lane_platoon[df_lane_platoon.Length > 1]\n",
    "    ax = df_plot['Length'].plot.hist(bins=10, title= \"{} Lane {} Platoon Frequencies Greater than 1 {}-{}\".format(stations[0], lane, start_year, end_year)) \n",
    "    ax.set_xlabel('Number of Vehicles in Platoon')\n",
    "    plt.show()\n",
    "    if False:\n",
    "        #Display the combinations of platoons that are the most common for 2, 3 and 4 length\n",
    "        print(df_lane_platoon[df_lane_platoon.Length == 2].CLASS.apply(tuple).value_counts().head().to_string())\n",
    "        print(df_lane_platoon[df_lane_platoon.Length == 3].CLASS.apply(tuple).value_counts().head().to_string())\n",
    "        print(df_lane_platoon[df_lane_platoon.Length == 4].CLASS.apply(tuple).value_counts().head().to_string())\n",
    "    df_lane_platoon['Lane'] = int(lane)\n",
    "    df_platoon.append(df_lane_platoon)"
   ]
  },
  {
   "cell_type": "code",
   "execution_count": null,
   "metadata": {},
   "outputs": [],
   "source": [
    "df_platoon = pd.concat(df_platoon,ignore_index=True)"
   ]
  },
  {
   "cell_type": "code",
   "execution_count": null,
   "metadata": {},
   "outputs": [],
   "source": [
    "df_platoon.to_pickle('{}Data/{}_{}_platoon_h{}.pkl'.format(stations[0], start_year, end_year, platoon_headway))"
   ]
  },
  {
   "cell_type": "code",
   "execution_count": null,
   "metadata": {},
   "outputs": [],
   "source": [
    "for station in stations:\n",
    "    \n",
    "    to_pickle(station, start_year, end_year)\n",
    "    \n",
    "    #trucks_per_lane(station, start_year, end_year)\n",
    "    #weight_per_lane(station, start_year, end_year)\n",
    "    \n",
    "    #Find the platoons\n",
    "    #one_lane_platoon(station, start_year, end_year, False, platoon_headway)\n",
    "    #overall platoon histogram\n",
    "    platoon_log_hist(station, start_year, end_year, platoon_headway)\n",
    "    #truck type breakdown\n",
    "    #truck_type_graph(station, start_year, end_year, False)\n",
    "    \n",
    "    yearly_daily_vehicle(station, start_year, end_year, platoon_headway)\n",
    "    yearly_weight(station, start_year, end_year, platoon_headway, True)\n",
    "    yearly_platoon(station, start_year, end_year, platoon_headway)\n",
    "    \n",
    "    #Seasonality\n",
    "    seasonality = 'Daily'\n",
    "    platoon_seasonality(station, start_year, end_year, platoon_headway, seasonality, False, False)\n",
    "    weight_seasonality(station, start_year, end_year, seasonality)\n",
    "    count_seasonality(station, start_year, end_year, seasonality, False)"
   ]
  },
  {
   "cell_type": "code",
   "execution_count": null,
   "metadata": {},
   "outputs": [],
   "source": [
    "platoon_seasonality(station, start_year, end_year, platoon_headway, seasonality, False, True)"
   ]
  },
  {
   "cell_type": "code",
   "execution_count": null,
   "metadata": {},
   "outputs": [],
   "source": [
    "to_pickle(stations[0], start_year, end_year, True)"
   ]
  }
 ],
 "metadata": {
  "kernelspec": {
   "display_name": "Python 3",
   "language": "python",
   "name": "python3"
  },
  "language_info": {
   "codemirror_mode": {
    "name": "ipython",
    "version": 3
   },
   "file_extension": ".py",
   "mimetype": "text/x-python",
   "name": "python",
   "nbconvert_exporter": "python",
   "pygments_lexer": "ipython3",
   "version": "3.7.9"
  }
 },
 "nbformat": 4,
 "nbformat_minor": 2
}
